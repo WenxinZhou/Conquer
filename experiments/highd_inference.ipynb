{
 "cells": [
  {
   "cell_type": "code",
   "execution_count": 1,
   "id": "3b6f2e40-8e31-4a48-9c39-7b98c4031cf1",
   "metadata": {},
   "outputs": [
    {
     "data": {
      "text/plain": [
       "6"
      ]
     },
     "execution_count": 1,
     "metadata": {},
     "output_type": "execute_result"
    }
   ],
   "source": [
    "import numpy as np\n",
    "import pandas as pd\n",
    "import numpy.random as rgt\n",
    "import matplotlib.pyplot as plt\n",
    "import scipy.stats as spstat\n",
    "import time\n",
    "from conquer.linear_model import high_dim\n",
    "\n",
    "def cov_generate(std, corr=0.5):\n",
    "    p = len(std)\n",
    "    R = np.zeros(shape=[p,p])\n",
    "    for j in range(p-1):\n",
    "        R[j, j+1:] = np.array(range(1, len(R[j,j+1:])+1))\n",
    "    R += R.T\n",
    "    return np.outer(std, std)*(corr*np.ones(shape=[p,p]))**R\n",
    "\n",
    "from joblib import Parallel, delayed\n",
    "import multiprocessing\n",
    "multiprocessing.cpu_count()"
   ]
  },
  {
   "cell_type": "markdown",
   "id": "d666a784-e1e4-4650-b29f-e44985b916f1",
   "metadata": {},
   "source": [
    "### Model selection and post-selection inference via bootstrap for high-dimensional quantile regression"
   ]
  },
  {
   "cell_type": "code",
   "execution_count": 2,
   "id": "b094e889-222b-4eaf-91c1-9a8dc24b02d4",
   "metadata": {},
   "outputs": [
    {
     "name": "stdout",
     "output_type": "stream",
     "text": [
      "true model: [ 1  3  6  9 12 15 18 21]\n"
     ]
    }
   ],
   "source": [
    "n = 256\n",
    "p = 1028\n",
    "s = 8\n",
    "tau = 0.8\n",
    " \n",
    "Mu, Sig = np.zeros(p), cov_generate(rgt.uniform(1,2,size=p))\n",
    "beta = np.zeros(p)\n",
    "beta[:21] = [1, 0, 1, 0, 0, 1, 0, 0, 1, 0, 0, 1, 0, 0, -1, 0, 0, -1, 0, 0, -1]\n",
    "true_set = np.where(beta!=0)[0]\n",
    "print('true model:', true_set+1)\n",
    "\n",
    "def boot_sim(m, itcp=True, parallel=False, ncore=0):\n",
    "    rgt.seed(m)\n",
    "    X = rgt.multivariate_normal(mean=Mu, cov=Sig, size=n)\n",
    "    Y = 4 + X.dot(beta) + rgt.standard_t(2,n) - spstat.t.ppf(tau, df=2)\n",
    "    \n",
    "    sqr = high_dim(X, Y, intercept=itcp)\n",
    "    lambda_sim = 0.75*np.quantile(sqr.self_tuning(tau), 0.9)\n",
    "\n",
    "    boot_model = sqr.boot_inference(tau=tau, Lambda=lambda_sim, weight=\"Multinomial\",\n",
    "                                    parallel=parallel, ncore=ncore)\n",
    "    \n",
    "    per_ci = boot_model['percentile_ci']\n",
    "    piv_ci = boot_model['pivotal_ci']\n",
    "    norm_ci = boot_model['normal_ci']\n",
    "    \n",
    "    est_set = np.where(boot_model['boot_beta'][itcp:,0]!=0)[0]\n",
    "    mb_set = boot_model['majority_vote']\n",
    "    tp =  len(np.intersect1d(true_set, est_set))\n",
    "    fp  = len(np.setdiff1d(est_set, true_set))\n",
    "    mb_tp = len(np.intersect1d(true_set, mb_set))\n",
    "    mb_fp = len(np.setdiff1d(mb_set, true_set))\n",
    "    \n",
    "    ci_cover = np.c_[(beta>=per_ci[1:,0])*(beta<=per_ci[1:,1]), \n",
    "                     (beta>=piv_ci[1:,0])*(beta<=piv_ci[1:,1]),\n",
    "                     (beta>=norm_ci[1:,0])*(beta<=norm_ci[1:,1])]\n",
    "    ci_width = np.c_[per_ci[1:,1] - per_ci[1:,0],\n",
    "                     piv_ci[1:,1] - piv_ci[1:,0],\n",
    "                     norm_ci[1:,1] - norm_ci[1:,0]]            \n",
    "    return {'tp': tp, 'fp': fp, 'mb_tp': mb_tp, 'mb_fp': mb_fp, \n",
    "            'ci_cover': ci_cover, 'ci_width': ci_width}"
   ]
  },
  {
   "cell_type": "code",
   "execution_count": 3,
   "id": "35ed41c7-48be-4dbf-a071-9b3d02cd39ac",
   "metadata": {},
   "outputs": [
    {
     "name": "stdout",
     "output_type": "stream",
     "text": [
      "10 repetitions\n",
      "20 repetitions\n",
      "30 repetitions\n",
      "40 repetitions\n",
      "50 repetitions\n",
      "60 repetitions\n",
      "70 repetitions\n",
      "80 repetitions\n",
      "90 repetitions\n",
      "100 repetitions\n",
      "110 repetitions\n",
      "120 repetitions\n",
      "130 repetitions\n",
      "140 repetitions\n",
      "150 repetitions\n",
      "160 repetitions\n",
      "170 repetitions\n",
      "180 repetitions\n",
      "190 repetitions\n",
      "200 repetitions\n"
     ]
    }
   ],
   "source": [
    "ci_cover, ci_width = np.zeros([p, 3]), np.zeros([p, 3])\n",
    "M = 200\n",
    "# true and false positives\n",
    "tp, fp = np.zeros(M), np.zeros(M)\n",
    "mb_tp, mb_fp = np.zeros(M), np.zeros(M)\n",
    "\n",
    "runtime = 0\n",
    "for m in range(M):\n",
    "    tic = time.time()  \n",
    "    out = boot_sim(m, parallel=True, ncore=6)\n",
    "    runtime += time.time() - tic\n",
    "    \n",
    "    tp[m], fp[m], mb_tp[m], mb_fp[m] = out['tp'], out['fp'], out['mb_tp'], out['mb_fp']\n",
    "    ci_cover += out['ci_cover']\n",
    "    ci_width += out['ci_width']\n",
    "      \n",
    "    if (m+1)%10 == 0: print(m+1,'repetitions')"
   ]
  },
  {
   "cell_type": "code",
   "execution_count": 4,
   "id": "c39060b2-fe0d-4391-b53b-dbdc1b69a64d",
   "metadata": {},
   "outputs": [
    {
     "name": "stdout",
     "output_type": "stream",
     "text": [
      "    percentile   pivotal    normal  percentile  pivotal  normal\n",
      "1     0.399088  0.399088  0.405757       0.960    0.915   0.940\n",
      "3     0.424745  0.424745  0.427835       0.970    0.910   0.960\n",
      "6     0.308084  0.308084  0.313147       0.975    0.925   0.975\n",
      "9     0.525776  0.525776  0.533125       0.945    0.920   0.935\n",
      "12    0.405016  0.405016  0.413116       0.970    0.930   0.975\n",
      "15    0.406388  0.406388  0.415548       0.975    0.955   0.965\n",
      "18    0.361014  0.361014  0.367652       0.975    0.920   0.970\n",
      "21    0.405369  0.405369  0.412754       0.970    0.920   0.940 \n",
      "true model: [ 1  3  6  9 12 15 18 21] \n",
      "average runtime: 12.561057119369506 \n",
      "true positive: 8.0 \n",
      "false positive: 1.31 \n",
      "VSC prob: 0.27 \n",
      "true pos after boot: 8.0 \n",
      "false pos after boot: 0.04 \n",
      "VSC prob after boot: 0.96\n"
     ]
    }
   ],
   "source": [
    "cover = pd.DataFrame(ci_cover/M, columns=['percentile', 'pivotal', 'normal'])\n",
    "width = pd.DataFrame(ci_width/M, columns=['percentile', 'pivotal', 'normal'])\n",
    "\n",
    "boot_out = pd.concat([width.iloc[true_set,:], cover.iloc[true_set,:]], axis=1)\n",
    "boot_out.index = boot_out.index + 1\n",
    "print(boot_out,\n",
    "      '\\ntrue model:',      true_set+1,\n",
    "      '\\naverage runtime:', runtime/M,\n",
    "      '\\ntrue positive:',   np.mean(tp), \n",
    "      '\\nfalse positive:',  np.mean(fp),\n",
    "      '\\nVSC prob:',        np.mean((tp==8)*(fp==0)), \n",
    "      '\\ntrue pos after boot:',  np.mean(mb_tp),\n",
    "      '\\nfalse pos after boot:', np.mean(mb_fp),\n",
    "      '\\nVSC prob after boot:',  np.mean((mb_tp==8)*(mb_fp==0)))\n",
    "# VSC: variable selection consistency"
   ]
  },
  {
   "cell_type": "code",
   "execution_count": 5,
   "id": "0c494ab0-3b0d-4770-ba4f-36a3d68dceef",
   "metadata": {},
   "outputs": [
    {
     "data": {
      "text/plain": [
       "Text(0.5, 1.0, 'Histogram of False Positives')"
      ]
     },
     "execution_count": 5,
     "metadata": {},
     "output_type": "execute_result"
    },
    {
     "data": {
      "image/png": "[encoded data removed]",
      "text/plain": [
       "<Figure size 432x288 with 1 Axes>"
      ]
     },
     "metadata": {
      "needs_background": "light"
     },
     "output_type": "display_data"
    }
   ],
   "source": [
    "fig1 = plt.hist(fp)\n",
    "plt.title(r'Histogram of False Positives')"
   ]
  },
  {
   "cell_type": "code",
   "execution_count": 6,
   "id": "3b9f2d89-6f6c-448a-afce-85457670904b",
   "metadata": {},
   "outputs": [
    {
     "data": {
      "text/plain": [
       "Text(0.5, 1.0, 'Histogram of False Positives after Bootstrap')"
      ]
     },
     "execution_count": 6,
     "metadata": {},
     "output_type": "execute_result"
    },
    {
     "data": {
      "image/png": "[encoded data removed]",
      "text/plain": [
       "<Figure size 432x288 with 1 Axes>"
      ]
     },
     "metadata": {
      "needs_background": "light"
     },
     "output_type": "display_data"
    }
   ],
   "source": [
    "fig2 = plt.hist(mb_fp)\n",
    "plt.title(r'Histogram of False Positives after Bootstrap')"
   ]
  },
  {
   "cell_type": "code",
   "execution_count": null,
   "id": "5673bba6-0a45-4f04-8ce6-7e2d4542821c",
   "metadata": {},
   "outputs": [],
   "source": []
  }
 ],
 "metadata": {
  "kernelspec": {
   "display_name": "Python 3",
   "language": "python",
   "name": "python3"
  },
  "language_info": {
   "codemirror_mode": {
    "name": "ipython",
    "version": 3
   },
   "file_extension": ".py",
   "mimetype": "text/x-python",
   "name": "python",
   "nbconvert_exporter": "python",
   "pygments_lexer": "ipython3",
   "version": "3.8.8"
  }
 },
 "nbformat": 4,
 "nbformat_minor": 5
}
