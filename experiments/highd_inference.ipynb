{
 "cells": [
  {
   "cell_type": "code",
   "execution_count": 1,
   "id": "3b6f2e40-8e31-4a48-9c39-7b98c4031cf1",
   "metadata": {},
   "outputs": [],
   "source": [
    "import numpy as np\n",
    "import pandas as pd\n",
    "import numpy.random as rgt\n",
    "import matplotlib.pyplot as plt\n",
    "import scipy.stats as spstat\n",
    "import time\n",
    "\n",
    "from conquer.linear_model import high_dim\n",
    "\n",
    "def cov_generate(std, corr=0.5):\n",
    "    p = len(std)\n",
    "    R = np.zeros(shape=[p,p])\n",
    "    for j in range(p-1):\n",
    "        R[j, j+1:] = np.array(range(1, len(R[j,j+1:])+1))\n",
    "    R += R.T\n",
    "    return np.outer(std, std)*(corr*np.ones(shape=[p,p]))**R"
   ]
  },
  {
   "cell_type": "markdown",
   "id": "013b43b5-f7b2-4ef1-b20b-1eecff6e8575",
   "metadata": {},
   "source": [
    "The reference machine used for the simulations below is an iMac with a 3.7 GHz 6-Core Intel i5 processor and 32 GB of RAM. Each simulation exploits only one processor, without any parallelism."
   ]
  },
  {
   "cell_type": "markdown",
   "id": "d666a784-e1e4-4650-b29f-e44985b916f1",
   "metadata": {},
   "source": [
    "### Bootstrap model selection and post-selection inference for high-dimensional quantile regression"
   ]
  },
  {
   "cell_type": "code",
   "execution_count": 2,
   "id": "b094e889-222b-4eaf-91c1-9a8dc24b02d4",
   "metadata": {},
   "outputs": [
    {
     "name": "stdout",
     "output_type": "stream",
     "text": [
      "true model: [ 1  3  6  9 12 15 18 21]\n"
     ]
    }
   ],
   "source": [
    "n = 256\n",
    "p = 1028\n",
    "s = 8\n",
    "tau = 0.8\n",
    " \n",
    "Mu, Sig = np.zeros(p), cov_generate(rgt.uniform(1,2,size=p))\n",
    "beta = np.zeros(p)\n",
    "beta[:21] = [1, 0, 1, 0, 0, 1, 0, 0, 1, 0, 0, 1, 0, 0, -1, 0, 0, -1, 0, 0, -1]\n",
    "true_set = np.where(beta!=0)[0]\n",
    "print('true model:', true_set+1)"
   ]
  },
  {
   "cell_type": "code",
   "execution_count": 3,
   "id": "58603670-1a76-49a1-9605-6643c7361fdb",
   "metadata": {},
   "outputs": [
    {
     "name": "stdout",
     "output_type": "stream",
     "text": [
      "10 repetitions\n",
      "20 repetitions\n",
      "30 repetitions\n",
      "40 repetitions\n",
      "50 repetitions\n",
      "60 repetitions\n",
      "70 repetitions\n",
      "80 repetitions\n",
      "90 repetitions\n",
      "100 repetitions\n",
      "110 repetitions\n",
      "120 repetitions\n",
      "130 repetitions\n",
      "140 repetitions\n",
      "150 repetitions\n",
      "160 repetitions\n",
      "170 repetitions\n",
      "180 repetitions\n",
      "190 repetitions\n",
      "200 repetitions\n"
     ]
    }
   ],
   "source": [
    "ci_cover, ci_width = np.zeros([3, p]), np.zeros([3, p])\n",
    "M = 200\n",
    "# true and false positives\n",
    "tp, fp = np.zeros(M), np.zeros(M)\n",
    "mb_tp, mb_fp = np.zeros(M), np.zeros(M)\n",
    "\n",
    "runtime = 0\n",
    "for m in range(M):\n",
    "    rgt.seed(m)\n",
    "    X = rgt.multivariate_normal(mean=Mu, cov=Sig, size=n)\n",
    "    Y = 4 + X.dot(beta) + rgt.standard_t(2,n) - spstat.t.ppf(tau, df=2)\n",
    "    \n",
    "    hd_sqr = high_dim(X, Y, intercept=True)\n",
    "    lambda_sim = 0.75*np.quantile(hd_sqr.self_tuning(tau), 0.9)\n",
    "\n",
    "    tic = time.time()  \n",
    "    boot_model = hd_sqr.boot_inference(Lambda=lambda_sim, tau=tau, \\\n",
    "                                       weight=\"Multinomial\")\n",
    "    runtime += time.time() - tic\n",
    "    \n",
    "    mb_ci = boot_model['boot_ci']\n",
    "    est_set = np.where(boot_model['boot_beta'][1:,0]!=0)[0]\n",
    "    mb_set = boot_model['majority_vote']\n",
    "    tp[m] =  len(np.intersect1d(true_set, est_set))\n",
    "    fp[m] = len(np.setdiff1d(est_set, true_set))\n",
    "    mb_tp[m] = len(np.intersect1d(true_set, mb_set))\n",
    "    mb_fp[m] = len(np.setdiff1d(mb_set, true_set))\n",
    "    \n",
    "    for c in range(3):\n",
    "        ci_cover[c,:] += 1*(beta >= mb_ci[c,1:,0])*(beta<= mb_ci[c,1:,1])\n",
    "        ci_width[c,:] += mb_ci[c,1:,1] - mb_ci[c,1:,0]\n",
    "        \n",
    "    if (m+1)%10 == 0: print(m+1,'repetitions')"
   ]
  },
  {
   "cell_type": "code",
   "execution_count": 4,
   "id": "c39060b2-fe0d-4391-b53b-dbdc1b69a64d",
   "metadata": {},
   "outputs": [
    {
     "name": "stdout",
     "output_type": "stream",
     "text": [
      "    percentile   pivotal    normal  percentile  pivotal  normal\n",
      "1     0.335565  0.335565  0.339435       0.950    0.895   0.960\n",
      "3     0.456708  0.456708  0.463897       0.985    0.930   0.965\n",
      "6     0.349404  0.349404  0.353550       0.965    0.925   0.950\n",
      "9     0.445086  0.445086  0.454860       0.965    0.960   0.975\n",
      "12    0.412100  0.412100  0.421007       0.940    0.890   0.920\n",
      "15    0.312743  0.312743  0.318266       0.975    0.965   0.985\n",
      "18    0.360174  0.360174  0.367286       0.970    0.920   0.965\n",
      "21    0.433392  0.433392  0.438375       0.975    0.950   0.975 \n",
      "true model: [ 1  3  6  9 12 15 18 21] \n",
      "average runtime: 9.27385570049286 \n",
      "true positive: 8.0 \n",
      "false positive: 1.475 \n",
      "VSC prob: 0.26 \n",
      "true pos after boot: 8.0 \n",
      "false pos after boot: 0.055 \n",
      "VSC prob after boot: 0.95\n"
     ]
    }
   ],
   "source": [
    "ave_cover, ave_width = ci_cover/M, ci_width/M\n",
    "cover = pd.DataFrame(np.concatenate([ave_cover.T, beta[:,None]], axis=1), columns=['percentile', 'pivotal', 'normal','true beta'])\n",
    "width = pd.DataFrame(np.concatenate([ave_width.T, beta[:,None]], axis=1), columns=['percentile', 'pivotal', 'normal','true beta'])\n",
    "\n",
    "boot_out = pd.concat([width.iloc[true_set,:3], cover.iloc[true_set,:3]], axis=1)\n",
    "boot_out.index = boot_out.index + 1\n",
    "print(boot_out,\n",
    "      '\\ntrue model:',      true_set+1,\n",
    "      '\\naverage runtime:', runtime/M,\n",
    "      '\\ntrue positive:',   np.mean(tp), \n",
    "      '\\nfalse positive:',  np.mean(fp),\n",
    "      '\\nVSC prob:',        np.mean((tp==8)*(fp==0)), \n",
    "      '\\ntrue pos after boot:',  np.mean(mb_tp),\n",
    "      '\\nfalse pos after boot:', np.mean(mb_fp),\n",
    "      '\\nVSC prob after boot:',  np.mean((mb_tp==8)*(mb_fp==0)))\n",
    "# VSC: variable selection consistency"
   ]
  },
  {
   "cell_type": "code",
   "execution_count": 5,
   "id": "0c494ab0-3b0d-4770-ba4f-36a3d68dceef",
   "metadata": {},
   "outputs": [
    {
     "data": {
      "text/plain": [
       "Text(0.5, 1.0, 'Histogram of False Positives')"
      ]
     },
     "execution_count": 5,
     "metadata": {},
     "output_type": "execute_result"
    },
    {
     "data": {
      "image/png": "[encoded data removed]",
      "text/plain": [
       "<Figure size 432x288 with 1 Axes>"
      ]
     },
     "metadata": {
      "needs_background": "light"
     },
     "output_type": "display_data"
    }
   ],
   "source": [
    "fig1 = plt.hist(fp)\n",
    "plt.title(r'Histogram of False Positives')"
   ]
  },
  {
   "cell_type": "code",
   "execution_count": 6,
   "id": "3b9f2d89-6f6c-448a-afce-85457670904b",
   "metadata": {},
   "outputs": [
    {
     "data": {
      "text/plain": [
       "Text(0.5, 1.0, 'Histogram of False Positives after Bootstrap')"
      ]
     },
     "execution_count": 6,
     "metadata": {},
     "output_type": "execute_result"
    },
    {
     "data": {
      "image/png": "[encoded data removed]",
      "text/plain": [
       "<Figure size 432x288 with 1 Axes>"
      ]
     },
     "metadata": {
      "needs_background": "light"
     },
     "output_type": "display_data"
    }
   ],
   "source": [
    "fig2 = plt.hist(mb_fp)\n",
    "plt.title(r'Histogram of False Positives after Bootstrap')"
   ]
  },
  {
   "cell_type": "markdown",
   "id": "c3786dcc-dd69-46d4-bd0c-0df9b1191493",
   "metadata": {},
   "source": [
    "Under the same model, we implement bootstrap using parallel computing as follows."
   ]
  },
  {
   "cell_type": "code",
   "execution_count": 7,
   "id": "3383db7d-2b60-4a81-a5da-72838471cf24",
   "metadata": {},
   "outputs": [
    {
     "data": {
      "text/plain": [
       "6"
      ]
     },
     "execution_count": 7,
     "metadata": {},
     "output_type": "execute_result"
    }
   ],
   "source": [
    "from joblib import Parallel, delayed\n",
    "import multiprocessing\n",
    "multiprocessing.cpu_count()"
   ]
  },
  {
   "cell_type": "code",
   "execution_count": 8,
   "id": "3072ca07-6d63-4388-aef2-cd4de7f6d4b5",
   "metadata": {},
   "outputs": [],
   "source": [
    "def boot_sim(m, itcp=True):\n",
    "    X = rgt.multivariate_normal(mean=Mu, cov=Sig, size=n)\n",
    "    Y = 4 + X.dot(beta) + rgt.standard_t(2,n) - spstat.t.ppf(tau, df=2)\n",
    "    \n",
    "    hd_sqr = high_dim(X, Y, intercept=itcp)\n",
    "    lambda_sim = 0.75*np.quantile(hd_sqr.self_tuning(tau), 0.9)\n",
    "\n",
    "    boot_model = hd_sqr.boot_inference(Lambda=lambda_sim, tau=tau, \\\n",
    "                                       weight=\"Multinomial\", parallel=True, ncore=3)\n",
    "    \n",
    "    mb_ci = boot_model['boot_ci']\n",
    "    est_set = np.where(boot_model['boot_beta'][itcp:,0]!=0)[0]\n",
    "    mb_set = boot_model['majority_vote']\n",
    "    tp =  len(np.intersect1d(true_set, est_set))\n",
    "    fp  = len(np.setdiff1d(est_set, true_set))\n",
    "    mb_tp = len(np.intersect1d(true_set, mb_set))\n",
    "    mb_fp = len(np.setdiff1d(mb_set, true_set))\n",
    "    \n",
    "    ci_cover, ci_width = np.zeros([3, p]), np.zeros([3, p])\n",
    "    for c in range(3):\n",
    "        ci_cover[c,:] += (beta >= mb_ci[c,itcp:,0])*(beta<= mb_ci[c,itcp:,1])\n",
    "        ci_width[c,:] += mb_ci[c,itcp:,1] - mb_ci[c,itcp:,0]\n",
    "        \n",
    "    return [np.array([tp, fp, mb_tp, mb_fp]), ci_cover, ci_width]"
   ]
  },
  {
   "cell_type": "code",
   "execution_count": 9,
   "id": "aef299b1-1c8c-4a1d-99bb-61669dd222ed",
   "metadata": {},
   "outputs": [],
   "source": [
    "ci_cover, ci_width = np.zeros([3, p]), np.zeros([3, p])\n",
    "M = 200\n",
    "# true and false positives\n",
    "tp, fp = np.zeros(M), np.zeros(M)\n",
    "mb_tp, mb_fp = np.zeros(M), np.zeros(M)\n",
    "runtime = 0\n",
    "\n",
    "for m in range(M):\n",
    "    rgt.seed(m)\n",
    "    tic = time.time()\n",
    "    output = boot_sim(m)\n",
    "    runtime += time.time() - tic\n",
    "    tp[m], fp[m], mb_tp[m], mb_fp[m] = output[0][0], output[0][1], output[0][2], output[0][3]\n",
    "    ci_cover += output[1]\n",
    "    ci_width += output[2]"
   ]
  },
  {
   "cell_type": "code",
   "execution_count": 10,
   "id": "dbbb0543-89b8-429d-b73e-811b70b2bc57",
   "metadata": {},
   "outputs": [
    {
     "name": "stdout",
     "output_type": "stream",
     "text": [
      "    percentile   pivotal    normal  percentile  pivotal  normal\n",
      "1     0.332476  0.332476  0.338365       0.965    0.885   0.960\n",
      "3     0.453466  0.453466  0.459352       0.960    0.930   0.970\n",
      "6     0.347702  0.347702  0.353142       0.950    0.930   0.945\n",
      "9     0.447805  0.447805  0.457954       0.955    0.960   0.960\n",
      "12    0.417934  0.417934  0.420568       0.955    0.880   0.925\n",
      "15    0.309079  0.309079  0.315276       0.975    0.950   0.970\n",
      "18    0.360613  0.360613  0.367540       0.965    0.920   0.965\n",
      "21    0.436215  0.436215  0.442141       0.970    0.955   0.980 \n",
      "true model: [ 1  3  6  9 12 15 18 21] \n",
      "average runtime: 3.140219452381134 \n",
      "true positive: 8.0 \n",
      "false positive: 1.475 \n",
      "VSC prob: 0.26 \n",
      "true pos after boot: 8.0 \n",
      "false pos after boot: 0.055 \n",
      "VSC prob after boot: 0.945\n"
     ]
    }
   ],
   "source": [
    "cover = pd.DataFrame(np.concatenate([ci_cover.T/M, beta[:,None]], axis=1), columns=['percentile', 'pivotal', 'normal','true beta'])\n",
    "width = pd.DataFrame(np.concatenate([ci_width.T/M, beta[:,None]], axis=1), columns=['percentile', 'pivotal', 'normal','true beta'])\n",
    "\n",
    "boot_out = pd.concat([width.iloc[true_set,:3], cover.iloc[true_set,:3]], axis=1)\n",
    "boot_out.index = boot_out.index + 1\n",
    "print(boot_out,\n",
    "      '\\ntrue model:',      true_set+1,\n",
    "      '\\naverage runtime:', runtime/M,\n",
    "      '\\ntrue positive:',   np.mean(tp), \n",
    "      '\\nfalse positive:',  np.mean(fp),\n",
    "      '\\nVSC prob:',        np.mean((tp==8)*(fp==0)), \n",
    "      '\\ntrue pos after boot:',  np.mean(mb_tp),\n",
    "      '\\nfalse pos after boot:', np.mean(mb_fp),\n",
    "      '\\nVSC prob after boot:',  np.mean((mb_tp==8)*(mb_fp==0)))\n",
    "# VSC: variable selection consistency"
   ]
  },
  {
   "cell_type": "code",
   "execution_count": null,
   "id": "121d1c48-10ad-40d2-9e75-fa388feb5ea5",
   "metadata": {},
   "outputs": [],
   "source": []
  }
 ],
 "metadata": {
  "kernelspec": {
   "display_name": "Python 3",
   "language": "python",
   "name": "python3"
  },
  "language_info": {
   "codemirror_mode": {
    "name": "ipython",
    "version": 3
   },
   "file_extension": ".py",
   "mimetype": "text/x-python",
   "name": "python",
   "nbconvert_exporter": "python",
   "pygments_lexer": "ipython3",
   "version": "3.8.8"
  }
 },
 "nbformat": 4,
 "nbformat_minor": 5
}
