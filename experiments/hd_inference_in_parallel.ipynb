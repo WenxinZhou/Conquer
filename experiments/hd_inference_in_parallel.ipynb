{
 "cells": [
  {
   "cell_type": "code",
   "execution_count": 1,
   "id": "fcd14f84",
   "metadata": {},
   "outputs": [],
   "source": [
    "import numpy as np\n",
    "import pandas as pd\n",
    "import numpy.random as rgt\n",
    "import matplotlib.pyplot as plt\n",
    "import scipy.stats as spstat\n",
    "import time\n",
    "\n",
    "from conquer.linear_model import high_dim\n",
    "\n",
    "def cov_generate(std, corr=0.5):\n",
    "    p = len(std)\n",
    "    R = np.zeros(shape=[p,p])\n",
    "    for j in range(p-1):\n",
    "        R[j, j+1:] = np.array(range(1, len(R[j,j+1:])+1))\n",
    "    R += R.T\n",
    "    return np.outer(std, std)*(corr*np.ones(shape=[p,p]))**R"
   ]
  },
  {
   "cell_type": "markdown",
   "id": "c808e3aa",
   "metadata": {},
   "source": [
    "In the following, we implement bootstrap using parallel computing. The simulations were carried out on a Dell desktop with a 2.20 GHz 10-core Intel Xeon Silver 4114 processor and 48 GB of RAM."
   ]
  },
  {
   "cell_type": "code",
   "execution_count": 2,
   "id": "5e18fef1",
   "metadata": {},
   "outputs": [
    {
     "data": {
      "text/plain": [
       "20"
      ]
     },
     "execution_count": 2,
     "metadata": {},
     "output_type": "execute_result"
    }
   ],
   "source": [
    "import multiprocessing\n",
    "max_ncore = multiprocessing.cpu_count()\n",
    "max_ncore"
   ]
  },
  {
   "cell_type": "code",
   "execution_count": 3,
   "id": "406b5f03",
   "metadata": {},
   "outputs": [
    {
     "name": "stdout",
     "output_type": "stream",
     "text": [
      "true model: [ 1  3  6  9 12 15 18 21]\n"
     ]
    }
   ],
   "source": [
    "n = 256\n",
    "p = 1028\n",
    "s = 8\n",
    "tau = 0.8\n",
    " \n",
    "Mu, Sig = np.zeros(p), cov_generate(rgt.uniform(1,2,size=p))\n",
    "beta, bias = np.zeros(p), 4\n",
    "beta[:21] = [1, 0, 1, 0, 0, 1, 0, 0, 1, 0, 0, 1, 0, 0, -1, 0, 0, -1, 0, 0, -1]\n",
    "true_set = np.where(beta!=0)[0]\n",
    "print('true model:', true_set+1)\n",
    "\n",
    "def boot_sim(m, itcp=True, ncore=None):\n",
    "    X = rgt.multivariate_normal(mean=Mu, cov=Sig, size=n)\n",
    "    Y = bias + X.dot(beta) + rgt.standard_t(2,n) - spstat.t.ppf(tau, df=2)\n",
    "    \n",
    "    hdsqr = high_dim(X, Y, intercept=itcp)\n",
    "    lambda_sim = 0.7*np.quantile(hdsqr.self_tuning(tau), 0.9)\n",
    "\n",
    "    mb_beta, mb_fit = hdsqr.boot_inference(Lambda=lambda_sim, tau=tau, weight=\"Multinomial\", parallel=True, ncore=ncore)\n",
    "    mb_ci = mb_fit[0]\n",
    "    \n",
    "    est_set = np.where(mb_beta[itcp:,0]!=0)[0]\n",
    "    mb_set = mb_fit[1]\n",
    "    tp =  len(np.intersect1d(true_set, est_set))\n",
    "    fp  = len(np.setdiff1d(est_set, true_set))\n",
    "    mb_tp = len(np.intersect1d(true_set, mb_set))\n",
    "    mb_fp = len(np.setdiff1d(mb_set, true_set))\n",
    "    \n",
    "    ci_cover, ci_width = np.zeros([3, p]), np.zeros([3, p])\n",
    "    for c in range(3):\n",
    "        ci_cover[c,:] += (beta >= mb_ci[c,itcp:,0])*(beta<= mb_ci[c,itcp:,1])\n",
    "        ci_width[c,:] += mb_ci[c,itcp:,1] - mb_ci[c,itcp:,0]\n",
    "        \n",
    "    return [np.array([tp, fp, mb_tp, mb_fp]), ci_cover, ci_width]"
   ]
  },
  {
   "cell_type": "code",
   "execution_count": 4,
   "id": "7cce6580",
   "metadata": {},
   "outputs": [],
   "source": [
    "ci_cover, ci_width = np.zeros([3, p]), np.zeros([3, p])\n",
    "M = 100\n",
    "# true and false positives\n",
    "tp, fp = np.zeros(M), np.zeros(M)\n",
    "mb_tp, mb_fp = np.zeros(M), np.zeros(M)\n",
    "runtime = 0\n",
    "\n",
    "for m in range(M):\n",
    "    tic = time.time()\n",
    "    output = boot_sim(m, itcp=True, ncore=10)\n",
    "    runtime += time.time() - tic\n",
    "    tp[m], fp[m], mb_tp[m], mb_fp[m] = output[0][0], output[0][1], output[0][2], output[0][3]\n",
    "    ci_cover += output[1]\n",
    "    ci_width += output[2]\n",
    "    #print('average runtime:', runtime/(m+1))"
   ]
  },
  {
   "cell_type": "code",
   "execution_count": 5,
   "id": "bbf1f2c5",
   "metadata": {},
   "outputs": [
    {
     "name": "stdout",
     "output_type": "stream",
     "text": [
      "    percentile   pivotal    normal  percentile  pivotal  normal\n",
      "1     0.506144  0.506144  0.507725        0.97     0.94    0.97\n",
      "3     0.409184  0.409184  0.413144        0.93     0.92    0.93\n",
      "6     0.471632  0.471632  0.477809        0.93     0.87    0.94\n",
      "9     0.310136  0.310136  0.312043        0.97     0.95    0.96\n",
      "12    0.559701  0.559701  0.562614        0.95     0.93    0.94\n",
      "15    0.298775  0.298775  0.300936        0.97     0.88    0.93\n",
      "18    0.342260  0.342260  0.342508        0.96     0.93    0.96\n",
      "21    0.390796  0.390796  0.392765        0.96     0.97    0.97 \n",
      "true model: [ 1  3  6  9 12 15 18 21] \n",
      "average runtime: 22.562750868797302\n"
     ]
    }
   ],
   "source": [
    "cover = pd.DataFrame(np.concatenate([ci_cover.T/M, beta[:,None]], axis=1), columns=['percentile', 'pivotal', 'normal','true beta'])\n",
    "width = pd.DataFrame(np.concatenate([ci_width.T/M, beta[:,None]], axis=1), columns=['percentile', 'pivotal', 'normal','true beta'])\n",
    "\n",
    "boot_out = pd.concat([width.iloc[true_set,:3], cover.iloc[true_set,:3]], axis=1)\n",
    "boot_out.index = boot_out.index + 1\n",
    "print(boot_out,\n",
    "      '\\ntrue model:',      true_set+1,\n",
    "      '\\naverage runtime:', runtime/M)"
   ]
  },
  {
   "cell_type": "code",
   "execution_count": 7,
   "id": "4f874dab",
   "metadata": {},
   "outputs": [
    {
     "data": {
      "text/html": [
       "<div>\n",
       "<style scoped>\n",
       "    .dataframe tbody tr th:only-of-type {\n",
       "        vertical-align: middle;\n",
       "    }\n",
       "\n",
       "    .dataframe tbody tr th {\n",
       "        vertical-align: top;\n",
       "    }\n",
       "\n",
       "    .dataframe thead th {\n",
       "        text-align: right;\n",
       "    }\n",
       "</style>\n",
       "<table border=\"1\" class=\"dataframe\">\n",
       "  <thead>\n",
       "    <tr style=\"text-align: right;\">\n",
       "      <th></th>\n",
       "      <th>True Pos</th>\n",
       "      <th>False Pos</th>\n",
       "      <th>VSC Prob</th>\n",
       "    </tr>\n",
       "  </thead>\n",
       "  <tbody>\n",
       "    <tr>\n",
       "      <th>scad-conquer</th>\n",
       "      <td>8.00</td>\n",
       "      <td>1.06</td>\n",
       "      <td>0.37</td>\n",
       "    </tr>\n",
       "    <tr>\n",
       "      <th>boot-scad-conquer</th>\n",
       "      <td>7.99</td>\n",
       "      <td>0.05</td>\n",
       "      <td>0.94</td>\n",
       "    </tr>\n",
       "  </tbody>\n",
       "</table>\n",
       "</div>"
      ],
      "text/plain": [
       "                   True Pos  False Pos  VSC Prob\n",
       "scad-conquer           8.00       1.06      0.37\n",
       "boot-scad-conquer      7.99       0.05      0.94"
      ]
     },
     "execution_count": 7,
     "metadata": {},
     "output_type": "execute_result"
    }
   ],
   "source": [
    "metric = np.zeros([2, 3])\n",
    "metric[0,:] = np.array([np.mean(tp), np.mean(fp), np.mean((tp==8)*(fp==0))])\n",
    "metric[1,:] = np.array([np.mean(mb_tp), np.mean(mb_fp), np.mean((mb_tp==8)*(mb_fp==0))])\n",
    "# VSC: variable selection consistency\n",
    "metric = pd.DataFrame(metric, columns=['True Pos','False Pos','VSC Prob'], index=['scad-conquer','boot-scad-conquer'])\n",
    "metric"
   ]
  },
  {
   "cell_type": "code",
   "execution_count": 10,
   "id": "1bbf5338",
   "metadata": {},
   "outputs": [
    {
     "data": {
      "image/png": "[encoded data removed]",
      "text/plain": [
       "<Figure size 432x288 with 2 Axes>"
      ]
     },
     "metadata": {
      "needs_background": "light"
     },
     "output_type": "display_data"
    }
   ],
   "source": [
    "plt.subplot(2, 1, 1)\n",
    "plt.hist(fp)\n",
    "plt.title(r'Histogram of False Positives')\n",
    "\n",
    "plt.subplot(2, 1, 2)\n",
    "plt.hist(mb_fp)\n",
    "plt.title(r'Histogram of False Positives after Bootstrap')\n",
    "\n",
    "plt.tight_layout()"
   ]
  },
  {
   "cell_type": "code",
   "execution_count": null,
   "id": "ebc8ff76",
   "metadata": {},
   "outputs": [],
   "source": []
  }
 ],
 "metadata": {
  "kernelspec": {
   "display_name": "Python 3",
   "language": "python",
   "name": "python3"
  },
  "language_info": {
   "codemirror_mode": {
    "name": "ipython",
    "version": 3
   },
   "file_extension": ".py",
   "mimetype": "text/x-python",
   "name": "python",
   "nbconvert_exporter": "python",
   "pygments_lexer": "ipython3",
   "version": "3.8.8"
  }
 },
 "nbformat": 4,
 "nbformat_minor": 5
}
