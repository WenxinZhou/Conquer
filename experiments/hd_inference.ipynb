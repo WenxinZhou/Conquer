{
 "cells": [
  {
   "cell_type": "code",
   "execution_count": 1,
   "id": "3b6f2e40-8e31-4a48-9c39-7b98c4031cf1",
   "metadata": {},
   "outputs": [],
   "source": [
    "import numpy as np\n",
    "import pandas as pd\n",
    "import numpy.random as rgt\n",
    "import matplotlib.pyplot as plt\n",
    "import scipy.stats as spstat\n",
    "import time\n",
    "\n",
    "from conquer.linear_model import high_dim\n",
    "\n",
    "def cov_generate(std, corr=0.5):\n",
    "    p = len(std)\n",
    "    R = np.zeros(shape=[p,p])\n",
    "    for j in range(p-1):\n",
    "        R[j, j+1:] = np.array(range(1, len(R[j,j+1:])+1))\n",
    "    R += R.T\n",
    "    return np.outer(std, std)*(corr*np.ones(shape=[p,p]))**R"
   ]
  },
  {
   "cell_type": "markdown",
   "id": "013b43b5-f7b2-4ef1-b20b-1eecff6e8575",
   "metadata": {},
   "source": [
    "The reference machine used for the simulations below is an iMac with a 3.7 GHz 6-Core Intel i5 processor and 32 GB of RAM. Each simulation exploits only one processor, without any parallelism."
   ]
  },
  {
   "cell_type": "markdown",
   "id": "d666a784-e1e4-4650-b29f-e44985b916f1",
   "metadata": {},
   "source": [
    "### Bootstrap model selection and post-selection inference for high-dimensional quantile regression"
   ]
  },
  {
   "cell_type": "code",
   "execution_count": 2,
   "id": "b094e889-222b-4eaf-91c1-9a8dc24b02d4",
   "metadata": {},
   "outputs": [
    {
     "name": "stdout",
     "output_type": "stream",
     "text": [
      "true model: [ 1  3  6  9 12 15 18 21]\n"
     ]
    }
   ],
   "source": [
    "n = 256\n",
    "p = 1028\n",
    "s = 8\n",
    "tau = 0.8\n",
    " \n",
    "Mu, Sig = np.zeros(p), cov_generate(rgt.uniform(1,2,size=p))\n",
    "beta = np.zeros(p)\n",
    "beta[:21] = [1, 0, 1, 0, 0, 1, 0, 0, 1, 0, 0, 1, 0, 0, -1, 0, 0, -1, 0, 0, -1]\n",
    "true_set = np.where(beta!=0)[0]\n",
    "print('true model:', true_set+1)"
   ]
  },
  {
   "cell_type": "code",
   "execution_count": 3,
   "id": "58603670-1a76-49a1-9605-6643c7361fdb",
   "metadata": {},
   "outputs": [
    {
     "name": "stdout",
     "output_type": "stream",
     "text": [
      "10 repetitions\n",
      "20 repetitions\n",
      "30 repetitions\n",
      "40 repetitions\n",
      "50 repetitions\n",
      "60 repetitions\n",
      "70 repetitions\n",
      "80 repetitions\n",
      "90 repetitions\n",
      "100 repetitions\n",
      "110 repetitions\n",
      "120 repetitions\n",
      "130 repetitions\n",
      "140 repetitions\n",
      "150 repetitions\n",
      "160 repetitions\n",
      "170 repetitions\n",
      "180 repetitions\n",
      "190 repetitions\n",
      "200 repetitions\n"
     ]
    }
   ],
   "source": [
    "ci_cover, ci_width = np.zeros([3, p]), np.zeros([3, p])\n",
    "M = 200\n",
    "# true and false positives\n",
    "tp, fp = np.zeros(M), np.zeros(M)\n",
    "mb_tp, mb_fp = np.zeros(M), np.zeros(M)\n",
    "\n",
    "runtime = 0\n",
    "for m in range(M):\n",
    "    X = rgt.multivariate_normal(mean=Mu, cov=Sig, size=n)\n",
    "    Y = 4 + X.dot(beta) + rgt.standard_t(2,n) - spstat.t.ppf(tau, df=2)\n",
    "    \n",
    "    sparse_sqr = high_dim(X, Y, intercept=True)\n",
    "    lambda_sim = np.quantile(sparse_sqr.self_tuning(tau), 0.9)\n",
    "\n",
    "    tic = time.time()  \n",
    "    mb_beta, mb_fit = sparse_sqr.boot_inference(Lambda=0.7*lambda_sim, tau=tau, weight=\"Multinomial\")\n",
    "    runtime += time.time() - tic\n",
    "    mb_ci = mb_fit[0]\n",
    "    \n",
    "    est_set = np.where(mb_beta[1:,0]!=0)[0]\n",
    "    mb_set = mb_fit[1]\n",
    "    tp[m] =  len(np.intersect1d(true_set, est_set))\n",
    "    fp[m] = len(np.setdiff1d(est_set, true_set))\n",
    "    mb_tp[m] = len(np.intersect1d(true_set, mb_set))\n",
    "    mb_fp[m] = len(np.setdiff1d(mb_set, true_set))\n",
    "    \n",
    "    for c in range(3):\n",
    "        ci_cover[c,:] += 1*(beta >= mb_ci[c,1:,0])*(beta<= mb_ci[c,1:,1])\n",
    "        ci_width[c,:] += mb_ci[c,1:,1] - mb_ci[c,1:,0]\n",
    "        \n",
    "    if (m+1)%10 == 0: print(m+1,'repetitions')"
   ]
  },
  {
   "cell_type": "code",
   "execution_count": 4,
   "id": "c39060b2-fe0d-4391-b53b-dbdc1b69a64d",
   "metadata": {},
   "outputs": [
    {
     "name": "stdout",
     "output_type": "stream",
     "text": [
      "    percentile   pivotal    normal  percentile  pivotal  normal\n",
      "1     0.311020  0.311020  0.312872       0.970    0.875   0.945\n",
      "3     0.327295  0.327295  0.328694       0.950    0.905   0.945\n",
      "6     0.300410  0.300410  0.301614       0.950    0.940   0.955\n",
      "9     0.417487  0.417487  0.419470       0.965    0.905   0.945\n",
      "12    0.312257  0.312257  0.314858       0.955    0.920   0.960\n",
      "15    0.334100  0.334100  0.335563       0.970    0.940   0.970\n",
      "18    0.435524  0.435524  0.437862       0.980    0.950   0.980\n",
      "21    0.478148  0.478148  0.479655       0.965    0.925   0.955 \n",
      "true model: [ 1  3  6  9 12 15 18 21] \n",
      "average runtime: 22.899177409410477 \n",
      "true positive: 8.0 \n",
      "false positive: 2.72 \n",
      "VSC prob: 0.1 \n",
      "true pos after boot: 8.0 \n",
      "false pos after boot: 0.04 \n",
      "VSC prob after boot: 0.96\n"
     ]
    }
   ],
   "source": [
    "ave_cover, ave_width = ci_cover/M, ci_width/M\n",
    "cover = pd.DataFrame(np.concatenate([ave_cover.T, beta[:,None]], axis=1), columns=['percentile', 'pivotal', 'normal','true beta'])\n",
    "width = pd.DataFrame(np.concatenate([ave_width.T, beta[:,None]], axis=1), columns=['percentile', 'pivotal', 'normal','true beta'])\n",
    "\n",
    "boot_out = pd.concat([width.iloc[true_set,:3], cover.iloc[true_set,:3]], axis=1)\n",
    "boot_out.index = boot_out.index + 1\n",
    "print(boot_out,\n",
    "      '\\ntrue model:',      true_set+1,\n",
    "      '\\naverage runtime:', runtime/M,\n",
    "      '\\ntrue positive:',   np.mean(tp), \n",
    "      '\\nfalse positive:',  np.mean(fp),\n",
    "      '\\nVSC prob:',        np.mean((tp==8)*(fp==0)), \n",
    "      '\\ntrue pos after boot:',  np.mean(mb_tp),\n",
    "      '\\nfalse pos after boot:', np.mean(mb_fp),\n",
    "      '\\nVSC prob after boot:',  np.mean((mb_tp==8)*(mb_fp==0)))\n",
    "# VSC: variable selection consistency"
   ]
  },
  {
   "cell_type": "code",
   "execution_count": 5,
   "id": "0c494ab0-3b0d-4770-ba4f-36a3d68dceef",
   "metadata": {},
   "outputs": [
    {
     "data": {
      "text/plain": [
       "Text(0.5, 1.0, 'Histogram of False Positives')"
      ]
     },
     "execution_count": 5,
     "metadata": {},
     "output_type": "execute_result"
    },
    {
     "data": {
      "image/png": "[encoded data removed]",
      "text/plain": [
       "<Figure size 432x288 with 1 Axes>"
      ]
     },
     "metadata": {
      "needs_background": "light"
     },
     "output_type": "display_data"
    }
   ],
   "source": [
    "fig1 = plt.hist(fp)\n",
    "plt.title(r'Histogram of False Positives')"
   ]
  },
  {
   "cell_type": "code",
   "execution_count": 6,
   "id": "3b9f2d89-6f6c-448a-afce-85457670904b",
   "metadata": {},
   "outputs": [
    {
     "data": {
      "text/plain": [
       "Text(0.5, 1.0, 'Histogram of False Positives after Bootstrap')"
      ]
     },
     "execution_count": 6,
     "metadata": {},
     "output_type": "execute_result"
    },
    {
     "data": {
      "image/png": "[encoded data removed]",
      "text/plain": [
       "<Figure size 432x288 with 1 Axes>"
      ]
     },
     "metadata": {
      "needs_background": "light"
     },
     "output_type": "display_data"
    }
   ],
   "source": [
    "fig2 = plt.hist(mb_fp)\n",
    "plt.title(r'Histogram of False Positives after Bootstrap')"
   ]
  },
  {
   "cell_type": "code",
   "execution_count": null,
   "id": "338fa019-8a54-4ffa-bf88-18c8eb5ddcdf",
   "metadata": {},
   "outputs": [],
   "source": []
  },
  {
   "cell_type": "code",
   "execution_count": null,
   "id": "d7e006fb-c7dc-48af-b968-f1b895d5c8a4",
   "metadata": {},
   "outputs": [],
   "source": []
  },
  {
   "cell_type": "markdown",
   "id": "c3786dcc-dd69-46d4-bd0c-0df9b1191493",
   "metadata": {},
   "source": [
    "Under the same model, we implement bootstrap using parallel computing as follows."
   ]
  },
  {
   "cell_type": "code",
   "execution_count": 7,
   "id": "3383db7d-2b60-4a81-a5da-72838471cf24",
   "metadata": {},
   "outputs": [
    {
     "data": {
      "text/plain": [
       "6"
      ]
     },
     "execution_count": 7,
     "metadata": {},
     "output_type": "execute_result"
    }
   ],
   "source": [
    "from joblib import Parallel, delayed\n",
    "import multiprocessing\n",
    "multiprocessing.cpu_count()"
   ]
  },
  {
   "cell_type": "code",
   "execution_count": 8,
   "id": "3072ca07-6d63-4388-aef2-cd4de7f6d4b5",
   "metadata": {},
   "outputs": [],
   "source": [
    "def boot_sim(m, itcp=True):\n",
    "    X = rgt.multivariate_normal(mean=Mu, cov=Sig, size=n)\n",
    "    Y = 4 + X.dot(beta) + rgt.standard_t(2,n) - spstat.t.ppf(tau, df=2)\n",
    "    \n",
    "    hd_sqr = high_dim(X, Y, intercept=itcp)\n",
    "    lambda_sim = 0.7*np.quantile(sparse_sqr.self_tuning(tau), 0.9)\n",
    "\n",
    "    mb_beta, mb_fit = hd_sqr.boot_inference(Lambda=lambda_sim, tau=tau, weight=\"Multinomial\", parallel=True, ncore=3)\n",
    "    mb_ci = mb_fit[0]\n",
    "    \n",
    "    est_set = np.where(mb_beta[itcp:,0]!=0)[0]\n",
    "    mb_set = mb_fit[1]\n",
    "    tp =  len(np.intersect1d(true_set, est_set))\n",
    "    fp  = len(np.setdiff1d(est_set, true_set))\n",
    "    mb_tp = len(np.intersect1d(true_set, mb_set))\n",
    "    mb_fp = len(np.setdiff1d(mb_set, true_set))\n",
    "    \n",
    "    ci_cover, ci_width = np.zeros([3, p]), np.zeros([3, p])\n",
    "    for c in range(3):\n",
    "        ci_cover[c,:] += (beta >= mb_ci[c,itcp:,0])*(beta<= mb_ci[c,itcp:,1])\n",
    "        ci_width[c,:] += mb_ci[c,itcp:,1] - mb_ci[c,itcp:,0]\n",
    "        \n",
    "    return [np.array([tp, fp, mb_tp, mb_fp]), ci_cover, ci_width]"
   ]
  },
  {
   "cell_type": "code",
   "execution_count": 9,
   "id": "aef299b1-1c8c-4a1d-99bb-61669dd222ed",
   "metadata": {},
   "outputs": [],
   "source": [
    "ci_cover, ci_width = np.zeros([3, p]), np.zeros([3, p])\n",
    "M = 100\n",
    "# true and false positives\n",
    "tp, fp = np.zeros(M), np.zeros(M)\n",
    "mb_tp, mb_fp = np.zeros(M), np.zeros(M)\n",
    "runtime = 0\n",
    "\n",
    "for m in range(M):\n",
    "    tic = time.time()\n",
    "    output = boot_sim(m)\n",
    "    runtime += time.time() - tic\n",
    "    tp[m], fp[m], mb_tp[m], mb_fp[m] = output[0][0], output[0][1], output[0][2], output[0][3]\n",
    "    ci_cover += output[1]\n",
    "    ci_width += output[2] "
   ]
  },
  {
   "cell_type": "code",
   "execution_count": 10,
   "id": "dbbb0543-89b8-429d-b73e-811b70b2bc57",
   "metadata": {},
   "outputs": [
    {
     "name": "stdout",
     "output_type": "stream",
     "text": [
      "    percentile   pivotal    normal  percentile  pivotal  normal\n",
      "1     0.311336  0.311336  0.310834        0.96     0.95    0.96\n",
      "3     0.318043  0.318043  0.319566        0.99     0.93    0.99\n",
      "6     0.297887  0.297887  0.297639        0.97     0.91    0.98\n",
      "9     0.405025  0.405025  0.408655        0.97     0.94    0.96\n",
      "12    0.317448  0.317448  0.318885        0.96     0.91    0.94\n",
      "15    0.335705  0.335705  0.335331        0.97     0.90    0.91\n",
      "18    0.435608  0.435608  0.437565        0.96     0.87    0.92\n",
      "21    0.461894  0.461894  0.465016        0.98     0.94    0.97 \n",
      "true model: [ 1  3  6  9 12 15 18 21] \n",
      "average runtime: 7.215150434970855 \n",
      "true positive: 8.0 \n",
      "false positive: 2.7 \n",
      "VSC prob: 0.04 \n",
      "true pos after boot: 7.99 \n",
      "false pos after boot: 0.06 \n",
      "VSC prob after boot: 0.93\n"
     ]
    }
   ],
   "source": [
    "cover = pd.DataFrame(np.concatenate([ci_cover.T/M, beta[:,None]], axis=1), columns=['percentile', 'pivotal', 'normal','true beta'])\n",
    "width = pd.DataFrame(np.concatenate([ci_width.T/M, beta[:,None]], axis=1), columns=['percentile', 'pivotal', 'normal','true beta'])\n",
    "\n",
    "boot_out = pd.concat([width.iloc[true_set,:3], cover.iloc[true_set,:3]], axis=1)\n",
    "boot_out.index = boot_out.index + 1\n",
    "print(boot_out,\n",
    "      '\\ntrue model:',      true_set+1,\n",
    "      '\\naverage runtime:', runtime/M,\n",
    "      '\\ntrue positive:',   np.mean(tp), \n",
    "      '\\nfalse positive:',  np.mean(fp),\n",
    "      '\\nVSC prob:',        np.mean((tp==8)*(fp==0)), \n",
    "      '\\ntrue pos after boot:',  np.mean(mb_tp),\n",
    "      '\\nfalse pos after boot:', np.mean(mb_fp),\n",
    "      '\\nVSC prob after boot:',  np.mean((mb_tp==8)*(mb_fp==0)))\n",
    "# VSC: variable selection consistency"
   ]
  },
  {
   "cell_type": "code",
   "execution_count": null,
   "id": "5ca92a98-7d48-41bf-b654-ca5cf30fc688",
   "metadata": {},
   "outputs": [],
   "source": []
  }
 ],
 "metadata": {
  "kernelspec": {
   "display_name": "Python 3",
   "language": "python",
   "name": "python3"
  },
  "language_info": {
   "codemirror_mode": {
    "name": "ipython",
    "version": 3
   },
   "file_extension": ".py",
   "mimetype": "text/x-python",
   "name": "python",
   "nbconvert_exporter": "python",
   "pygments_lexer": "ipython3",
   "version": "3.8.8"
  }
 },
 "nbformat": 4,
 "nbformat_minor": 5
}
