{
 "cells": [
  {
   "cell_type": "code",
   "execution_count": 1,
   "id": "3b6f2e40-8e31-4a48-9c39-7b98c4031cf1",
   "metadata": {},
   "outputs": [],
   "source": [
    "import sys\n",
    "sys.path.append('.../code')\n",
    "\n",
    "import numpy as np\n",
    "import pandas as pd\n",
    "import numpy.random as rgt\n",
    "import matplotlib.pyplot as plt\n",
    "from hdqr import reg_conquer\n",
    "import scipy.stats as spstat\n",
    "import time\n",
    "\n",
    "def check(x, tau):\n",
    "    return np.mean(x*(tau-(x<0)))\n",
    "\n",
    "def cov_generate(std, corr=0.5):\n",
    "    p = len(std)\n",
    "    R = np.zeros(shape=[p,p])\n",
    "    for j in range(p-1):\n",
    "        R[j, j+1:] = np.array(range(1, len(R[j,j+1:])+1))\n",
    "    R += R.T\n",
    "    return np.outer(std, std)*(corr*np.ones(shape=[p,p]))**R"
   ]
  },
  {
   "cell_type": "markdown",
   "id": "013b43b5-f7b2-4ef1-b20b-1eecff6e8575",
   "metadata": {},
   "source": [
    "The reference machine used for the simulations below is an iMac with a 4.2 GHz Quad-Core Intel i7 processor and 16 GB of RAM. Each simulation exploits only one processor, without any parallelism."
   ]
  },
  {
   "cell_type": "markdown",
   "id": "d666a784-e1e4-4650-b29f-e44985b916f1",
   "metadata": {},
   "source": [
    "### Bootstrap methods for constructing confidence intervals for regression coefficients"
   ]
  },
  {
   "cell_type": "code",
   "execution_count": 2,
   "id": "b094e889-222b-4eaf-91c1-9a8dc24b02d4",
   "metadata": {},
   "outputs": [
    {
     "name": "stdout",
     "output_type": "stream",
     "text": [
      "true model: [ 1  3  6  9 12 15 18 21]\n"
     ]
    }
   ],
   "source": [
    "n = 256\n",
    "p = 1028\n",
    "s = 8\n",
    "tau = 0.8\n",
    " \n",
    "Mu, Sig = np.zeros(p), cov_generate(rgt.uniform(1,2,size=p))\n",
    "beta = np.zeros(p)\n",
    "beta[:21] = [1, 0, 1, 0, 0, 1, 0, 0, 1, 0, 0, 1, 0, 0, -1, 0, 0, -1, 0, 0, -1]\n",
    "true_set = np.where(beta!=0)[0]\n",
    "print('true model:', true_set+1)"
   ]
  },
  {
   "cell_type": "code",
   "execution_count": 3,
   "id": "58603670-1a76-49a1-9605-6643c7361fdb",
   "metadata": {},
   "outputs": [],
   "source": [
    "ci_cover, ci_width = np.zeros([3, p]), np.zeros([3, p])\n",
    "M = 100\n",
    "# true and false positives\n",
    "tp, fp = np.zeros(M), np.zeros(M)\n",
    "mb_tp, mb_fp = np.zeros(M), np.zeros(M)\n",
    "\n",
    "runtime = 0\n",
    "for m in range(M):\n",
    "    X = rgt.multivariate_normal(mean=Mu, cov=Sig, size=n)\n",
    "    Y = 4 + X.dot(beta) + rgt.standard_t(2,n) - spstat.t.ppf(tau, df=2)\n",
    "    \n",
    "    reg_sqr = reg_conquer(X, Y, intercept=True)\n",
    "    lambda_sim = np.quantile(reg_sqr.self_tuning(tau), 0.9)\n",
    "\n",
    "    tic = time.time()  \n",
    "    mb_beta, mb_fit = reg_sqr.boot_inference(Lambda=0.7*lambda_sim, tau=tau, weight=\"Multinomial\")\n",
    "    runtime += time.time() - tic\n",
    "    mb_ci = mb_fit[0]\n",
    "    \n",
    "    est_set = np.where(mb_beta[1:,0]!=0)[0]\n",
    "    mb_set = mb_fit[1]\n",
    "    tp[m] =  len(np.intersect1d(true_set, est_set))\n",
    "    fp[m] = len(np.setdiff1d(est_set, true_set))\n",
    "    mb_tp[m] = len(np.intersect1d(true_set, mb_set))\n",
    "    mb_fp[m] = len(np.setdiff1d(mb_set, true_set))\n",
    "    \n",
    "    for c in range(3):\n",
    "        ci_cover[c,:] += 1*(beta >= mb_ci[c,1:,0])*(beta<= mb_ci[c,1:,1])\n",
    "        ci_width[c,:] += mb_ci[c,1:,1] - mb_ci[c,1:,0]"
   ]
  },
  {
   "cell_type": "code",
   "execution_count": 4,
   "id": "c39060b2-fe0d-4391-b53b-dbdc1b69a64d",
   "metadata": {},
   "outputs": [
    {
     "name": "stdout",
     "output_type": "stream",
     "text": [
      "    percentile   pivotal    normal  percentile  pivotal  normal\n",
      "1     0.344921  0.344921  0.348487        0.99     0.96    0.98\n",
      "3     0.293706  0.293706  0.295289        0.99     0.97    0.98\n",
      "6     0.357375  0.357375  0.360082        0.98     0.94    0.98\n",
      "9     0.347977  0.347977  0.349242        0.97     0.89    0.96\n",
      "12    0.365861  0.365861  0.368456        0.97     0.91    0.93\n",
      "15    0.302625  0.302625  0.303047        0.97     0.91    0.95\n",
      "18    0.471572  0.471572  0.475220        0.98     0.90    0.95\n",
      "21    0.304087  0.304087  0.306140        0.97     0.93    0.98 \n",
      "true model: [ 1  3  6  9 12 15 18 21] \n",
      "average runtime: 61.1424446105957 \n",
      "true positive: 8.0 \n",
      "false positive: 1.23 \n",
      "VSC prob: 0.33 \n",
      "true pos after boot: 8.0 \n",
      "false pos after boot: 0.04 \n",
      "VSC prob after boot: 0.96\n"
     ]
    }
   ],
   "source": [
    "ave_cover, ave_width = ci_cover/M, ci_width/M\n",
    "cover = pd.DataFrame(np.concatenate([ave_cover.T, beta[:,None]], axis=1), columns=['percentile', 'pivotal', 'normal','true beta'])\n",
    "width = pd.DataFrame(np.concatenate([ave_width.T, beta[:,None]], axis=1), columns=['percentile', 'pivotal', 'normal','true beta'])\n",
    "\n",
    "boot_out = pd.concat([width.iloc[true_set,:3], cover.iloc[true_set,:3]], axis=1)\n",
    "boot_out.index = boot_out.index + 1\n",
    "print(boot_out,\n",
    "      '\\ntrue model:',      true_set+1,\n",
    "      '\\naverage runtime:', runtime/M,\n",
    "      '\\ntrue positive:',   np.mean(tp), \n",
    "      '\\nfalse positive:',  np.mean(fp),\n",
    "      '\\nVSC prob:',        np.mean((tp==8)*(fp==0)), \n",
    "      '\\ntrue pos after boot:',  np.mean(mb_tp),\n",
    "      '\\nfalse pos after boot:', np.mean(mb_fp),\n",
    "      '\\nVSC prob after boot:',  np.mean((mb_tp==8)*(mb_fp==0)))\n",
    "# VSC: variable selection consistency"
   ]
  },
  {
   "cell_type": "code",
   "execution_count": 5,
   "id": "0c494ab0-3b0d-4770-ba4f-36a3d68dceef",
   "metadata": {},
   "outputs": [
    {
     "data": {
      "text/plain": [
       "Text(0.5, 1.0, 'Histogram of False Positives')"
      ]
     },
     "execution_count": 5,
     "metadata": {},
     "output_type": "execute_result"
    },
    {
     "data": {
      "image/png": "[encoded data removed]",
      "text/plain": [
       "<Figure size 432x288 with 1 Axes>"
      ]
     },
     "metadata": {
      "needs_background": "light"
     },
     "output_type": "display_data"
    }
   ],
   "source": [
    "fig1 = plt.hist(fp)\n",
    "plt.title(r'Histogram of False Positives')"
   ]
  },
  {
   "cell_type": "code",
   "execution_count": 6,
   "id": "3b9f2d89-6f6c-448a-afce-85457670904b",
   "metadata": {},
   "outputs": [
    {
     "data": {
      "text/plain": [
       "Text(0.5, 1.0, 'Histogram of False Positives after Bootstrap')"
      ]
     },
     "execution_count": 6,
     "metadata": {},
     "output_type": "execute_result"
    },
    {
     "data": {
      "image/png": "[encoded data removed]",
      "text/plain": [
       "<Figure size 432x288 with 1 Axes>"
      ]
     },
     "metadata": {
      "needs_background": "light"
     },
     "output_type": "display_data"
    }
   ],
   "source": [
    "fig2 = plt.hist(mb_fp)\n",
    "plt.title(r'Histogram of False Positives after Bootstrap')"
   ]
  },
  {
   "cell_type": "code",
   "execution_count": null,
   "id": "69ceae8f-51a2-4a96-830a-8a8b86a00427",
   "metadata": {},
   "outputs": [],
   "source": []
  }
 ],
 "metadata": {
  "kernelspec": {
   "display_name": "Python 3",
   "language": "python",
   "name": "python3"
  },
  "language_info": {
   "codemirror_mode": {
    "name": "ipython",
    "version": 3
   },
   "file_extension": ".py",
   "mimetype": "text/x-python",
   "name": "python",
   "nbconvert_exporter": "python",
   "pygments_lexer": "ipython3",
   "version": "3.8.8"
  }
 },
 "nbformat": 4,
 "nbformat_minor": 5
}
