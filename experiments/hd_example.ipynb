{
 "cells": [
  {
   "cell_type": "code",
   "execution_count": 1,
   "id": "33710622-d26d-4126-9b2a-967dd3cf2cc7",
   "metadata": {},
   "outputs": [],
   "source": [
    "import numpy as np\n",
    "import pandas as pd\n",
    "import numpy.random as rgt\n",
    "import matplotlib.pyplot as plt\n",
    "import scipy.stats as spstat\n",
    "import time\n",
    "\n",
    "from conquer.linear_model import low_dim, high_dim, cv_lambda, validate_lambda\n",
    "\n",
    "def cov_generate(std, corr=0.5):\n",
    "    p = len(std)\n",
    "    R = np.zeros(shape=[p,p])\n",
    "    for j in range(p-1):\n",
    "        R[j, j+1:] = np.array(range(1, len(R[j,j+1:])+1))\n",
    "    R += R.T\n",
    "    return np.outer(std, std)*(corr*np.ones(shape=[p,p]))**R"
   ]
  },
  {
   "cell_type": "markdown",
   "id": "57abdc7a-d036-49a2-be3a-ff6890cfbafc",
   "metadata": {},
   "source": [
    "The reference machine used for the simulations below is an iMac with a 3.7 GHz 6-Core Intel i5 processor and 32 GB of RAM. Each simulation exploits only one processor, without any parallelism."
   ]
  },
  {
   "cell_type": "markdown",
   "id": "b049bfbb-c1a7-436a-b399-7555d089b981",
   "metadata": {},
   "source": [
    "## Model 1\n",
    "\n",
    "Let $z=(z_1, \\ldots, z_p)^T \\sim N(0, \\Sigma)$ with $\\Sigma = (0.5^{|j-k|})_{1\\leq j, k \\leq p}$. Generate independent data vectors $\\{(y_i , x_i) \\}_{i=1}^n$ from the model $y_i =   \\langle x_i, \\beta^*  \\rangle    + 0.7 x_{i1}  \\varepsilon_i$, where $x_i = (x_{i1}, \\ldots, x_{ip})^T \\sim (\\Phi(z_1), z_2, \\ldots, z_p)^T$, $\\varepsilon_i \\sim N(0,1)$ are independent of $x_i$, and $\\beta^* \\in \\mathbb R^p$ is sparse with $\\beta^*_6 = \\beta^*_{12} =\\beta^*_{15} = \\beta^*_{20} =1$.\n",
    "\n",
    "Consider two quantile levels: $\\tau=0.5$ and $\\tau=0.7$. Note that the effect of $x_{i1}$ is only present for $\\tau=0.7$."
   ]
  },
  {
   "cell_type": "code",
   "execution_count": 2,
   "id": "b52ac53f-da25-410b-b66c-634837a6faed",
   "metadata": {},
   "outputs": [],
   "source": [
    "n, p = 300, 1000\n",
    "Mu, Sig = np.zeros(p), cov_generate(np.ones(p))\n",
    "beta = np.zeros(p)\n",
    "beta[[5, 11, 14, 19]] = 1\n",
    "\n",
    "M = 100\n",
    "coef_err = np.zeros(shape=(M,3))\n",
    "true_pos = np.zeros(shape=(M,3))\n",
    "false_pos = np.zeros(shape=(M,3))"
   ]
  },
  {
   "cell_type": "markdown",
   "id": "0882b37d-ce11-486b-ad3a-4c9462a7ce9c",
   "metadata": {},
   "source": [
    "### Case 1: $\\tau=0.5$."
   ]
  },
  {
   "cell_type": "code",
   "execution_count": 3,
   "id": "eefb38b8-3210-48d1-b40b-bd5e7b4ea690",
   "metadata": {},
   "outputs": [],
   "source": [
    "tau = 0.5\n",
    "true_beta = np.copy(beta)\n",
    "true_beta[0] = 0.7*spstat.norm.ppf(tau)\n",
    "true_set = np.where(true_beta!=0)[0]\n",
    "\n",
    "runtime = np.zeros(3)\n",
    "for m in range(M):\n",
    "    X = rgt.multivariate_normal(mean=Mu, cov=Sig, size=n)\n",
    "    X[:,0] = spstat.norm.cdf(X[:,0])\n",
    "    Y = X.dot(beta) + 0.7*X[:,0]*rgt.normal(0,1,size=n)\n",
    "\n",
    "    hdsqr = high_dim(X, Y, intercept=False)\n",
    "    sim_lambda = np.quantile(hdsqr.self_tuning(tau), 0.95)\n",
    "    \n",
    "    ## l1-penalized conquer (l1 conquer)\n",
    "    tic = time.time()\n",
    "    l1_beta, l1_fit = hdsqr.l1(0.7*sim_lambda, tau)\n",
    "    runtime[0] += time.time() - tic\n",
    "    l1_size, l1_set = sum(l1_beta!=0), np.where(l1_beta!=0)[0]\n",
    "\n",
    "    ## Iteratively reweighted l1-penalized conquer (IRW-l1 conquer)\n",
    "    tic = time.time()\n",
    "    irw_beta, irw_fit = hdsqr.irw(0.7*sim_lambda, tau)\n",
    "    runtime[1] += time.time() - tic\n",
    "    irw_size, irw_set = sum(irw_beta!=0), np.where(irw_beta!=0)[0]\n",
    "\n",
    "    ## Oracle conquer\n",
    "    tic = time.time()\n",
    "    ora_beta, ora_fit = low_dim(X[:,true_set], Y, intercept=False).fit(tau=tau)\n",
    "    runtime[2] = runtime[2] + time.time() - tic\n",
    "\n",
    "    coef_err[m,0] = sum((l1_beta - true_beta)**2)\n",
    "    coef_err[m,1] = sum((irw_beta - true_beta)**2)\n",
    "    coef_err[m,2] = sum((ora_beta - true_beta[true_set])**2)\n",
    "    true_pos[m,0] = len(np.intersect1d(true_set, l1_set))\n",
    "    true_pos[m,1] = len(np.intersect1d(true_set, irw_set))\n",
    "    true_pos[m,2] = len(true_set)\n",
    "    false_pos[m,0] = l1_size - true_pos[m,0]\n",
    "    false_pos[m,1] = irw_size - true_pos[m,1]"
   ]
  },
  {
   "cell_type": "code",
   "execution_count": 4,
   "id": "2e2f8685-1b90-491e-9b62-1c3411599a03",
   "metadata": {},
   "outputs": [
    {
     "name": "stdout",
     "output_type": "stream",
     "text": [
      "           l1-conquer  irw-conquer  oracle-conquer\n",
      "coef err     0.033788     0.001230        0.001086\n",
      "(std)        0.011574     0.000957        0.000865\n",
      "true pos     4.000000     4.000000        4.000000\n",
      "false pos    0.240000     0.060000        0.000000\n",
      "runtime      0.010671     0.016407        0.000979\n",
      "\n",
      "X1 selection rate: 0.0\n"
     ]
    }
   ],
   "source": [
    "out1 = np.array([np.mean(coef_err, axis=0), np.std(coef_err, axis=0), np.mean(true_pos, axis=0), np.mean(false_pos, axis=0), runtime/M])\n",
    "out1 = pd.DataFrame(out1, columns=['l1-conquer', 'irw-conquer', 'oracle-conquer'],\n",
    "                    index=['coef err', '(std)', 'true pos', 'false pos', 'runtime'])\n",
    "print(out1)\n",
    "print('\\nX1 selection rate:', np.mean(true_pos[:,1]==5))"
   ]
  },
  {
   "cell_type": "markdown",
   "id": "4233b5ec-32a4-4d9e-9435-d9ec6f94d26f",
   "metadata": {},
   "source": [
    "### Case 2: $\\tau=0.7$."
   ]
  },
  {
   "cell_type": "code",
   "execution_count": 5,
   "id": "be30b6e2-b14a-4788-808b-3167f7ad0205",
   "metadata": {},
   "outputs": [],
   "source": [
    "tau = 0.7\n",
    "true_beta = np.copy(beta)\n",
    "true_beta[0] = 0.7*spstat.norm.ppf(tau)\n",
    "true_set = np.where(true_beta!=0)[0]\n",
    "\n",
    "runtime = np.zeros(3)\n",
    "for m in range(M):\n",
    "    X = rgt.multivariate_normal(mean=Mu, cov=Sig, size=n)\n",
    "    X[:,0] = spstat.norm.cdf(X[:,0])\n",
    "    Y = X.dot(beta) + 0.7*X[:,0]*rgt.normal(0,1,size=n)\n",
    "\n",
    "    hdsqr = high_dim(X, Y, intercept=False)\n",
    "    sim_lambda = np.quantile(hdsqr.self_tuning(tau), 0.9)\n",
    "    \n",
    "    ## l1-penalized conquer (l1 conquer)\n",
    "    tic = time.time()\n",
    "    l1_beta, l1_fit = hdsqr.l1(0.7*sim_lambda, tau)\n",
    "    runtime[0] += time.time() - tic\n",
    "    l1_size, l1_set = sum(l1_beta!=0), np.where(l1_beta!=0)[0]\n",
    "\n",
    "    ## Iteratively reweighted l1-penalized conquer (IRW-l1 conquer)\n",
    "    tic = time.time()\n",
    "    irw_beta, irw_fit = hdsqr.irw(0.7*sim_lambda, tau)\n",
    "    runtime[1] += time.time() - tic\n",
    "    irw_size, irw_set = sum(irw_beta!=0), np.where(irw_beta!=0)[0]\n",
    "\n",
    "    ## Oracle conquer\n",
    "    tic = time.time()\n",
    "    ora_beta, ora_fit = low_dim(X[:,true_set], Y, intercept=False).fit(tau=tau)\n",
    "    runtime[2] = runtime[2] + time.time() - tic\n",
    "\n",
    "    coef_err[m,0] = sum((l1_beta - true_beta)**2)\n",
    "    coef_err[m,1] = sum((irw_beta - true_beta)**2)\n",
    "    coef_err[m,2] = sum((ora_beta - true_beta[true_set])**2)\n",
    "    true_pos[m,0] = len(np.intersect1d(true_set, l1_set))\n",
    "    true_pos[m,1] = len(np.intersect1d(true_set, irw_set))\n",
    "    true_pos[m,2] = len(true_set)\n",
    "    false_pos[m,0] = l1_size - true_pos[m,0]\n",
    "    false_pos[m,1] = irw_size - true_pos[m,1]"
   ]
  },
  {
   "cell_type": "code",
   "execution_count": 6,
   "id": "34e9cc8b-4fa5-4b1f-9f16-fdebb580fd09",
   "metadata": {},
   "outputs": [
    {
     "name": "stdout",
     "output_type": "stream",
     "text": [
      "           l1-conquer  irw-conquer  oracle-conquer\n",
      "coef err     0.032048     0.005986        0.005262\n",
      "(std)        0.010501     0.005618        0.005204\n",
      "true pos     5.000000     5.000000        5.000000\n",
      "false pos    0.470000     0.080000        0.000000\n",
      "runtime      0.018041     0.026728        0.001498\n",
      "\n",
      "X1 selection rate: 1.0\n"
     ]
    }
   ],
   "source": [
    "out2 = np.array([np.mean(coef_err, axis=0), np.std(coef_err, axis=0), np.mean(true_pos, axis=0), np.mean(false_pos, axis=0), runtime/M])\n",
    "out2 = pd.DataFrame(out2, columns=['l1-conquer', 'irw-conquer', 'oracle-conquer'], \n",
    "                    index=['coef err', '(std)', 'true pos', 'false pos', 'runtime'])\n",
    "print(out2)\n",
    "print('\\nX1 selection rate:', np.mean(true_pos[:,1]==5))"
   ]
  },
  {
   "cell_type": "markdown",
   "id": "85c61337-a350-47b2-b182-0337cb389b98",
   "metadata": {},
   "source": [
    "## Model 2\n",
    "\n",
    "Construct the covariance matrix $\\Sigma = (\\sigma_j \\sigma_k 0.5^{|j-k|})_{1\\leq j, k \\leq p}$, where $\\sigma_1, \\ldots, \\sigma_p$ are independently generated from Unif$(1,2)$.\n",
    "Generate independent data vectors $\\{(y_i , x_i) \\}_{i=1}^n$ from the model $y_i =   \\langle x_i, \\beta^*  \\rangle    +   \\varepsilon_i - F_{ \\varepsilon_i}^{-1}(\\tau)$, where $x_i \\sim N(0, \\Sigma)$ and $\\varepsilon_i \\sim t_2$ are independent, and $\\beta^* \\in \\mathbb R^p$ is sparse."
   ]
  },
  {
   "cell_type": "code",
   "execution_count": 7,
   "id": "68d16d77-e264-4d91-afee-8d90633bff05",
   "metadata": {},
   "outputs": [],
   "source": [
    "n, p = 256, 1028\n",
    "tau = 0.75\n",
    " \n",
    "Mu, Sig = np.zeros(p), cov_generate(rgt.uniform(1,2,size=p))\n",
    "itcp, beta = 4, np.zeros(p)\n",
    "beta[:15] = [1.6, 0, 1.4, 0, 1.2, 0, 1, 0, -1, 0, -1.2, 0, -1.4, 0, -1.6]\n",
    "true_set = np.where(abs(beta)>0)[0]\n",
    "true_loc = np.zeros(p)\n",
    "true_loc[true_set] = 1"
   ]
  },
  {
   "cell_type": "markdown",
   "id": "9766741c-7251-4549-bdb8-48e894780bf4",
   "metadata": {},
   "source": [
    "### 2.1. Simulation results for $\\ell_1$- and iteratively reweighted $\\ell_1$-penalized conquer\n",
    "\n",
    "The penality level $\\lambda>0$ is determined by a simulation-based method."
   ]
  },
  {
   "cell_type": "code",
   "execution_count": 8,
   "id": "1d00ff94-3e7e-4725-bc1e-6cd8218f4a66",
   "metadata": {},
   "outputs": [],
   "source": [
    "M = 100\n",
    "runtime = np.zeros(3)\n",
    "itcp_err = np.zeros(shape=(M,3))\n",
    "coef_err = np.zeros(shape=(M,3))\n",
    "true_pos = np.zeros(shape=(M,3))\n",
    "false_pos = np.zeros(shape=(M,3))\n",
    "\n",
    "for m in range(M):\n",
    "    X = rgt.multivariate_normal(mean=Mu, cov=Sig, size=n)\n",
    "    Y = itcp*np.ones(n) + X.dot(beta)\n",
    "    err = rgt.standard_t(2,size=n) - spstat.t.ppf(tau,df=2)\n",
    "    Y += err\n",
    "\n",
    "    hdsqr = high_dim(X, Y)\n",
    "    sim_lambda = np.quantile(hdsqr.self_tuning(tau), 0.95)\n",
    "\n",
    "    ## l1-penalized conquer\n",
    "    tic = time.time()\n",
    "    l1_beta, l1_fit = hdsqr.l1(tau=tau, Lambda=0.7*sim_lambda)\n",
    "    runtime[0] += time.time() - tic\n",
    "    l1_set = np.where( l1_beta[1:]!=0 )[0]\n",
    "\n",
    "    ## Iteratively reweighted l1-penalized conquer (default is SCAD penality)\n",
    "    tic = time.time()\n",
    "    irw_beta, irw_fit = hdsqr.irw(tau=tau, Lambda=0.7*sim_lambda)\n",
    "    runtime[1] += time.time() - tic\n",
    "    irw_set = np.where( irw_beta[1:]!=0 )[0]\n",
    "    \n",
    "    ## Oracle conquer\n",
    "    tic = time.time()\n",
    "    sqr = low_dim(X[:,true_set], Y)\n",
    "    ora_beta, ora_fit = sqr.fit(tau=tau)\n",
    "    runtime[2] += time.time() - tic\n",
    "    \n",
    "    itcp_err[m,0], itcp_err[m,1], itcp_err[m,2] = abs(l1_beta[0] - itcp), abs(irw_beta[0] - itcp), abs(ora_beta[0] - itcp)\n",
    "    coef_err[m,0], coef_err[m,1], coef_err[m,2] = sum((l1_beta[1:] - beta)**2), sum((irw_beta[1:] - beta)**2), sum((ora_beta[1:] - beta[true_set])**2)\n",
    "    true_pos[m,0] = len(np.intersect1d(true_set, l1_set))\n",
    "    true_pos[m,1] = len(np.intersect1d(true_set, irw_set))\n",
    "    true_pos[m,2] = len(true_set)\n",
    "    false_pos[m,0] = len(np.setdiff1d(l1_set, true_set))\n",
    "    false_pos[m,1] = len(np.setdiff1d(irw_set, true_set))"
   ]
  },
  {
   "cell_type": "code",
   "execution_count": 9,
   "id": "85955ad2-2c94-4030-a425-bae27951e136",
   "metadata": {},
   "outputs": [
    {
     "data": {
      "text/html": [
       "<div>\n",
       "<style scoped>\n",
       "    .dataframe tbody tr th:only-of-type {\n",
       "        vertical-align: middle;\n",
       "    }\n",
       "\n",
       "    .dataframe tbody tr th {\n",
       "        vertical-align: top;\n",
       "    }\n",
       "\n",
       "    .dataframe thead th {\n",
       "        text-align: right;\n",
       "    }\n",
       "</style>\n",
       "<table border=\"1\" class=\"dataframe\">\n",
       "  <thead>\n",
       "    <tr style=\"text-align: right;\">\n",
       "      <th></th>\n",
       "      <th>itcp err</th>\n",
       "      <th>(itcp std)</th>\n",
       "      <th>coef err</th>\n",
       "      <th>(coef std)</th>\n",
       "      <th>true pos</th>\n",
       "      <th>false pos</th>\n",
       "      <th>runtime</th>\n",
       "    </tr>\n",
       "  </thead>\n",
       "  <tbody>\n",
       "    <tr>\n",
       "      <th>l1-conquer</th>\n",
       "      <td>0.435949</td>\n",
       "      <td>0.222376</td>\n",
       "      <td>0.933649</td>\n",
       "      <td>0.433117</td>\n",
       "      <td>8.0</td>\n",
       "      <td>3.73</td>\n",
       "      <td>0.039307</td>\n",
       "    </tr>\n",
       "    <tr>\n",
       "      <th>irw-l1-conquer</th>\n",
       "      <td>0.103584</td>\n",
       "      <td>0.084980</td>\n",
       "      <td>0.083444</td>\n",
       "      <td>0.055143</td>\n",
       "      <td>8.0</td>\n",
       "      <td>1.94</td>\n",
       "      <td>0.049913</td>\n",
       "    </tr>\n",
       "    <tr>\n",
       "      <th>oracle</th>\n",
       "      <td>0.100363</td>\n",
       "      <td>0.082560</td>\n",
       "      <td>0.071713</td>\n",
       "      <td>0.042017</td>\n",
       "      <td>8.0</td>\n",
       "      <td>0.00</td>\n",
       "      <td>0.001859</td>\n",
       "    </tr>\n",
       "  </tbody>\n",
       "</table>\n",
       "</div>"
      ],
      "text/plain": [
       "                itcp err  (itcp std)  coef err  (coef std)  true pos  \\\n",
       "l1-conquer      0.435949    0.222376  0.933649    0.433117       8.0   \n",
       "irw-l1-conquer  0.103584    0.084980  0.083444    0.055143       8.0   \n",
       "oracle          0.100363    0.082560  0.071713    0.042017       8.0   \n",
       "\n",
       "                false pos   runtime  \n",
       "l1-conquer           3.73  0.039307  \n",
       "irw-l1-conquer       1.94  0.049913  \n",
       "oracle               0.00  0.001859  "
      ]
     },
     "execution_count": 9,
     "metadata": {},
     "output_type": "execute_result"
    }
   ],
   "source": [
    "out = {'itcp err': np.mean(itcp_err, axis=0), \n",
    "       '(itcp std)': np.std(itcp_err, axis=0), \n",
    "       'coef err': np.mean(coef_err, axis=0),\n",
    "       '(coef std)': np.std(coef_err, axis=0),\n",
    "       'true pos': np.mean(true_pos, axis=0), \n",
    "       'false pos': np.mean(false_pos, axis=0), \n",
    "       'runtime': runtime/M}\n",
    "out = pd.DataFrame(out, index=['l1-conquer', 'irw-l1-conquer','oracle'])\n",
    "out"
   ]
  },
  {
   "cell_type": "markdown",
   "id": "cb89e5b4-e1ca-4937-9722-85dcfb65cbe2",
   "metadata": {},
   "source": [
    "### 2.2. Solution paths of $\\ell_1$- and iteratively reweighted $\\ell_1$-penalized conquer"
   ]
  },
  {
   "cell_type": "code",
   "execution_count": 10,
   "id": "7e563060-9aa1-4eb6-b4ca-e7843b9967b2",
   "metadata": {},
   "outputs": [],
   "source": [
    "M = 100\n",
    "nlambda = 40\n",
    "runtime = np.zeros(2)\n",
    "l1_sse, l1_tp, l1_fp = np.zeros([nlambda, M]), np.zeros([nlambda, M]), np.zeros([nlambda, M])\n",
    "irw_sse, irw_tp, irw_fp = np.zeros([nlambda, M]), np.zeros([nlambda, M]), np.zeros([nlambda, M])\n",
    "\n",
    "for m in range(M):\n",
    "    X = rgt.multivariate_normal(mean=Mu, cov=Sig, size=n)\n",
    "    Y = itcp + X.dot(beta) + rgt.standard_t(2,size=n) - spstat.t.ppf(tau,df=2)\n",
    "\n",
    "    hdsqr = high_dim(X, Y, intercept=True)\n",
    "    lambda_max = np.max(hdsqr.self_tuning(tau))\n",
    "    lambda_seq = np.linspace(0.25*lambda_max, lambda_max, nlambda)\n",
    "\n",
    "    ## l1-penalized conquer\n",
    "    tic = time.time()\n",
    "    l1_path, l1_fit = hdsqr.l1_path(lambda_seq=lambda_seq, tau=tau)\n",
    "    runtime[0] += time.time() - tic\n",
    "    \n",
    "    ## irw-l1-penalized conquer\n",
    "    tic = time.time()\n",
    "    irw_path, irw_fit = hdsqr.irw_path(lambda_seq=lambda_seq, tau=tau)\n",
    "    runtime[1] += time.time() - tic    \n",
    "\n",
    "    l1_sse[:,m] = np.sum((l1_path[1:,:] - beta[:,None])**2, axis=0)\n",
    "    irw_sse[:,m] = np.sum((irw_path[1:,:] - beta[:,None])**2, axis=0)\n",
    "    l1_loc = np.sign(abs(l1_path[1:,:]))\n",
    "    irw_loc = np.sign(abs(irw_path[1:,:]))\n",
    "    l1_tp[:,m] = np.sum(l1_loc*true_loc[:,None], axis=0)\n",
    "    irw_tp[:,m] = np.sum(irw_loc*true_loc[:,None], axis=0)\n",
    "    l1_fp[:,m] = np.sum(l1_loc, axis=0) - l1_tp[:,m]\n",
    "    irw_fp[:,m] = np.sum(irw_loc, axis=0) - irw_tp[:,m]\n",
    "\n",
    "l1_tot, irw_tot = l1_fp+l1_tp, irw_fp+irw_tp\n",
    "l1_fdr = np.mean(l1_fp/np.where(l1_tot==0, 1, l1_tot), axis=1)\n",
    "irw_fdr = np.mean(irw_fp/np.where(irw_tot==0, 1, irw_tot), axis=1)\n",
    "l1_tpr = np.mean(l1_tp/len(true_set), axis=1)\n",
    "irw_tpr = np.mean(irw_tp/len(true_set), axis=1)"
   ]
  },
  {
   "cell_type": "code",
   "execution_count": 11,
   "id": "8c45e1b3-ea5f-4832-9445-808d2fc7febf",
   "metadata": {},
   "outputs": [
    {
     "data": {
      "text/plain": [
       "<matplotlib.legend.Legend at 0x7fab8883c070>"
      ]
     },
     "execution_count": 11,
     "metadata": {},
     "output_type": "execute_result"
    },
    {
     "data": {
      "image/png": "[encoded data removed]",
      "text/plain": [
       "<Figure size 432x288 with 1 Axes>"
      ]
     },
     "metadata": {
      "needs_background": "light"
     },
     "output_type": "display_data"
    }
   ],
   "source": [
    "# FDR along the solution path\n",
    "plt.plot(l1_fdr, label='l1-conquer')\n",
    "plt.plot(irw_fdr, label='irw-conquer')\n",
    "plt.title(\"FDR along the solution path\")\n",
    "plt.ylabel(\"false discovery rate\")\n",
    "plt.legend()"
   ]
  },
  {
   "cell_type": "code",
   "execution_count": 12,
   "id": "0a1fb547-7d42-49d2-a470-975089ba29a8",
   "metadata": {},
   "outputs": [
    {
     "data": {
      "text/plain": [
       "<matplotlib.legend.Legend at 0x7fab9a5aee80>"
      ]
     },
     "execution_count": 12,
     "metadata": {},
     "output_type": "execute_result"
    },
    {
     "data": {
      "image/png": "[encoded data removed]",
      "text/plain": [
       "<Figure size 432x288 with 1 Axes>"
      ]
     },
     "metadata": {
      "needs_background": "light"
     },
     "output_type": "display_data"
    }
   ],
   "source": [
    "# TPR along the solution path\n",
    "plt.plot(l1_tpr, label='l1-conquer')\n",
    "plt.plot(irw_tpr, label='irw-conquer')\n",
    "plt.title(\"TPR along the solution path\")\n",
    "plt.ylabel(\"true positive rate\")\n",
    "plt.legend()"
   ]
  },
  {
   "cell_type": "code",
   "execution_count": 13,
   "id": "b536b441-873c-4f57-b837-a3f6bbd29bfd",
   "metadata": {},
   "outputs": [
    {
     "data": {
      "text/plain": [
       "<matplotlib.legend.Legend at 0x7faba884c310>"
      ]
     },
     "execution_count": 13,
     "metadata": {},
     "output_type": "execute_result"
    },
    {
     "data": {
      "image/png": "[encoded data removed]",
      "text/plain": [
       "<Figure size 432x288 with 1 Axes>"
      ]
     },
     "metadata": {
      "needs_background": "light"
     },
     "output_type": "display_data"
    }
   ],
   "source": [
    "# MSE along the solution path\n",
    "plt.plot(np.mean(l1_sse, axis=1), label='l1-conquer')\n",
    "plt.plot(np.mean(irw_sse, axis=1), label='irw-conquer')\n",
    "plt.title(\"MSE along the solution path\")\n",
    "plt.ylabel(\"mean squared error\")\n",
    "plt.legend()"
   ]
  },
  {
   "cell_type": "markdown",
   "id": "221d6300-10c7-427a-94ef-213058ce1f03",
   "metadata": {},
   "source": [
    "### 2.3. Train ($\\ell_1$, SCAD, MCP) penalized conquer on a validation set\n",
    "\n",
    "$\\ell_1$-conquer: $\\ell_1$-penalized conquer;\n",
    "\n",
    "scad-conquer: iteratively reweighted $\\ell_1$-penalized conquer using SCAD-based weights;\n",
    "\n",
    "mcp-conquer: iteratively reweighted $\\ell_1$-penalized conquer using MCP-based weights;\n",
    "\n",
    "oracle: conquer estimator fitted on the true model."
   ]
  },
  {
   "cell_type": "code",
   "execution_count": 15,
   "id": "7bb41cc0-96e4-4593-b28a-420c5266d47b",
   "metadata": {},
   "outputs": [],
   "source": [
    "n_val = 128\n",
    "nlambda, M = 40, 100\n",
    "## [coef_se, model_size, true_pos, false_pos, lambda_min]\n",
    "metrics = np.zeros(shape=(4,M,5)) \n",
    "runtime = np.zeros(4)\n",
    "\n",
    "for m in range(M):\n",
    "    X_all = rgt.multivariate_normal(mean=Mu, cov=Sig, size=n+n_val)\n",
    "    Y_all = itcp + X_all.dot(beta) + rgt.standard_t(2,n+n_val) - spstat.t.ppf(tau,df=2)\n",
    "    \n",
    "    # training set of size n\n",
    "    X, Y = X_all[:n, :], Y_all[:n]\n",
    "    # validation set of size n_val\n",
    "    X_val, Y_val = X_all[n:,:], Y_all[n:]\n",
    "    \n",
    "    lambda_max = np.max(high_dim(X, Y).self_tuning(tau, B=200))\n",
    "    lambda_seq = np.linspace(lambda_max, 0.25*lambda_max, nlambda)\n",
    "    hdsqr = validate_lambda(X, Y, X_val, Y_val)\n",
    "    \n",
    "    tic = time.time()\n",
    "    l1_beta, l1_fit = hdsqr.train(tau, lambda_seq=lambda_seq, penalty=\"L1\")\n",
    "    runtime[0] +=  time.time() - tic\n",
    "    \n",
    "    tic = time.time()\n",
    "    scad_beta, scad_fit = hdsqr.train(tau, lambda_seq=lambda_seq, penalty=\"SCAD\", a=3.7)\n",
    "    runtime[1] +=  time.time() - tic\n",
    "    \n",
    "    tic = time.time()\n",
    "    mcp_beta, mcp_fit = hdsqr.train(tau, lambda_seq=lambda_seq, penalty=\"MCP\", a=3)\n",
    "    runtime[2] +=  time.time() - tic   \n",
    "    \n",
    "    tic = time.time()\n",
    "    ora_beta, ora_fit = low_dim(X[:,true_set], Y).fit(tau=tau)\n",
    "    runtime[3] += time.time() - tic\n",
    "    \n",
    "    err1, err2, err3, err4 = l1_beta[1:] - beta, scad_beta[1:] - beta, mcp_beta[1:] - beta, ora_beta[1:] - beta[true_set]\n",
    "    # squared L2-error (coefficients)\n",
    "    metrics[0,m,0], metrics[1,m,0], metrics[2,m,0], metrics[3,m,0] = err1.dot(err1), err2.dot(err2), err3.dot(err3), err4.dot(err4)\n",
    "    # selected model size\n",
    "    metrics[0,m,1], metrics[1,m,1], metrics[2,m,1], metrics[3,m,1] = l1_fit[1], scad_fit[1], mcp_fit[1], len(true_set)\n",
    "    # selected model\n",
    "    l1_set = np.where( l1_beta[1:]!=0 )[0]\n",
    "    scad_set = np.where( scad_beta[1:]!=0 )[0]\n",
    "    mcp_set = np.where( mcp_beta[1:]!=0 )[0]\n",
    "    # true positives\n",
    "    metrics[0,m,2] = len(np.intersect1d(true_set, l1_set))\n",
    "    metrics[1,m,2] = len(np.intersect1d(true_set, scad_set))\n",
    "    metrics[2,m,2] = len(np.intersect1d(true_set, mcp_set))\n",
    "    metrics[3,m,2] = len(true_set)\n",
    "    # false positives\n",
    "    metrics[0,m,3] = len(np.setdiff1d(l1_set, true_set))\n",
    "    metrics[1,m,3] = len(np.setdiff1d(scad_set, true_set))    \n",
    "    metrics[2,m,3] = len(np.setdiff1d(mcp_set, true_set))\n",
    "    # lambda_min (the value of lambda that gives minimum validation error)\n",
    "    metrics[0,m,4], metrics[1,m,4], metrics[2,m,4] = l1_fit[2], scad_fit[2], mcp_fit[2]"
   ]
  },
  {
   "cell_type": "code",
   "execution_count": 16,
   "id": "84d9f53c-8d05-456a-9301-83a090a20b5b",
   "metadata": {},
   "outputs": [
    {
     "data": {
      "text/html": [
       "<div>\n",
       "<style scoped>\n",
       "    .dataframe tbody tr th:only-of-type {\n",
       "        vertical-align: middle;\n",
       "    }\n",
       "\n",
       "    .dataframe tbody tr th {\n",
       "        vertical-align: top;\n",
       "    }\n",
       "\n",
       "    .dataframe thead th {\n",
       "        text-align: right;\n",
       "    }\n",
       "</style>\n",
       "<table border=\"1\" class=\"dataframe\">\n",
       "  <thead>\n",
       "    <tr style=\"text-align: right;\">\n",
       "      <th></th>\n",
       "      <th>coef_mse</th>\n",
       "      <th>(std)</th>\n",
       "      <th>model_size</th>\n",
       "      <th>true_pos</th>\n",
       "      <th>false_pos</th>\n",
       "      <th>lambda_min</th>\n",
       "      <th>runtime</th>\n",
       "    </tr>\n",
       "  </thead>\n",
       "  <tbody>\n",
       "    <tr>\n",
       "      <th>l1-conquer</th>\n",
       "      <td>0.452914</td>\n",
       "      <td>0.150209</td>\n",
       "      <td>59.56</td>\n",
       "      <td>8.0</td>\n",
       "      <td>51.56</td>\n",
       "      <td>0.044229</td>\n",
       "      <td>0.270581</td>\n",
       "    </tr>\n",
       "    <tr>\n",
       "      <th>scad-conquer</th>\n",
       "      <td>0.084451</td>\n",
       "      <td>0.053682</td>\n",
       "      <td>11.34</td>\n",
       "      <td>8.0</td>\n",
       "      <td>3.34</td>\n",
       "      <td>0.087210</td>\n",
       "      <td>1.537885</td>\n",
       "    </tr>\n",
       "    <tr>\n",
       "      <th>mcp-conquer</th>\n",
       "      <td>0.087230</td>\n",
       "      <td>0.054395</td>\n",
       "      <td>9.14</td>\n",
       "      <td>8.0</td>\n",
       "      <td>1.14</td>\n",
       "      <td>0.096205</td>\n",
       "      <td>1.699274</td>\n",
       "    </tr>\n",
       "    <tr>\n",
       "      <th>oracle</th>\n",
       "      <td>0.068410</td>\n",
       "      <td>0.036718</td>\n",
       "      <td>8.00</td>\n",
       "      <td>8.0</td>\n",
       "      <td>0.00</td>\n",
       "      <td>0.000000</td>\n",
       "      <td>0.001831</td>\n",
       "    </tr>\n",
       "  </tbody>\n",
       "</table>\n",
       "</div>"
      ],
      "text/plain": [
       "              coef_mse     (std)  model_size  true_pos  false_pos  lambda_min  \\\n",
       "l1-conquer    0.452914  0.150209       59.56       8.0      51.56    0.044229   \n",
       "scad-conquer  0.084451  0.053682       11.34       8.0       3.34    0.087210   \n",
       "mcp-conquer   0.087230  0.054395        9.14       8.0       1.14    0.096205   \n",
       "oracle        0.068410  0.036718        8.00       8.0       0.00    0.000000   \n",
       "\n",
       "               runtime  \n",
       "l1-conquer    0.270581  \n",
       "scad-conquer  1.537885  \n",
       "mcp-conquer   1.699274  \n",
       "oracle        0.001831  "
      ]
     },
     "execution_count": 16,
     "metadata": {},
     "output_type": "execute_result"
    }
   ],
   "source": [
    "l1_out = {\"coef_mse\":   np.mean(metrics[0,:,0]),\n",
    "          \"(std)\":      np.std(metrics[0,:,0]),\n",
    "          \"model_size\": np.mean(metrics[0,:,1]),\n",
    "          \"true_pos\":   np.mean(metrics[0,:,2]), \n",
    "          \"false_pos\":  np.mean(metrics[0,:,3]),\n",
    "          \"lambda_min\": np.mean(metrics[0,:,4]),\n",
    "          \"runtime\":    runtime[0]/M }\n",
    "scad_out = {\"coef_mse\":   np.mean(metrics[1,:,0]),\n",
    "            \"(std)\":      np.std(metrics[1,:,0]),\n",
    "            \"model_size\": np.mean(metrics[1,:,1]),\n",
    "            \"true_pos\":   np.mean(metrics[1,:,2]), \n",
    "            \"false_pos\":  np.mean(metrics[1,:,3]),\n",
    "            \"lambda_min\": np.mean(metrics[1,:,4]),\n",
    "            \"runtime\":    runtime[1]/M }\n",
    "mcp_out = {\"coef_mse\":   np.mean(metrics[2,:,0]),\n",
    "           \"(std)\":      np.std(metrics[2,:,0]),\n",
    "           \"model_size\": np.mean(metrics[2,:,1]),\n",
    "           \"true_pos\":   np.mean(metrics[2,:,2]), \n",
    "           \"false_pos\":  np.mean(metrics[2,:,3]),\n",
    "           \"lambda_min\": np.mean(metrics[2,:,4]),\n",
    "           \"runtime\":    runtime[2]/M }\n",
    "ora_out = {\"coef_mse\":   np.mean(metrics[3,:,0]),\n",
    "           \"(std)\":      np.std(metrics[3,:,0]),\n",
    "           \"model_size\": np.mean(metrics[3,:,1]),\n",
    "           \"true_pos\":   np.mean(metrics[3,:,2]), \n",
    "           \"false_pos\":  np.mean(metrics[3,:,3]),\n",
    "           \"lambda_min\": np.mean(metrics[3,:,4]),\n",
    "           \"runtime\":    runtime[3]/M }\n",
    "outcome = pd.DataFrame(data=[l1_out, scad_out, mcp_out, ora_out], \n",
    "                       index=[\"l1-conquer\", \"scad-conquer\",\"mcp-conquer\",\"oracle\"])\n",
    "outcome"
   ]
  },
  {
   "cell_type": "markdown",
   "id": "ba437438-0ba0-409b-8dcc-1eaee01a60e8",
   "metadata": {},
   "source": [
    "### 2.4. Cross-validated ($\\ell_1$, SCAD, MCP) penalized conquer"
   ]
  },
  {
   "cell_type": "code",
   "execution_count": 19,
   "id": "354035fe-d8f6-4e9f-9b24-1ed0432544c7",
   "metadata": {},
   "outputs": [],
   "source": [
    "nlambda = 25\n",
    "M = 50\n",
    "\n",
    "runtime = np.zeros(4)\n",
    "est_beta = np.zeros([p+1, 4])\n",
    "cv_err = np.zeros([4, nlambda, M])\n",
    "# [coef_se, model_size, true_pos, false_pos, lambda_min]\n",
    "metrics = np.zeros([4, 5, M])\n",
    "\n",
    "for m in range(M):\n",
    "    X = rgt.multivariate_normal(mean=Mu, cov=Sig, size=n)\n",
    "    Y = itcp + X.dot(beta) + rgt.standard_t(2,n) - spstat.t.ppf(tau, df=2)\n",
    "    \n",
    "    hdsqr = high_dim(X, Y, intercept=True)\n",
    "    lambda_max = np.max(hdsqr.self_tuning(tau, B=200))\n",
    "    lambda_seq = np.linspace(0.2*lambda_max, lambda_max, nlambda)\n",
    "    bw = hdsqr.bandwidth(tau)\n",
    "\n",
    "    cv_sqr = cv_lambda(X, Y, intercept=True)\n",
    "    tic = time.time()\n",
    "    est_beta[:,0], l1_fit = cv_sqr.fit(tau=tau, h=bw, lambda_seq=lambda_seq, penalty=\"L1\")\n",
    "    runtime[0] +=  time.time() - tic\n",
    "    \n",
    "    tic = time.time()\n",
    "    est_beta[:,1], scad_fit = cv_sqr.fit(tau=tau, h=bw, lambda_seq=lambda_seq, penalty=\"SCAD\", a=3.7)\n",
    "    runtime[1] +=  time.time() - tic\n",
    "    \n",
    "    tic = time.time()\n",
    "    est_beta[:,2], mcp_fit = cv_sqr.fit(tau=tau, h=bw, lambda_seq=lambda_seq, penalty=\"MCP\", a=3)\n",
    "    runtime[2] +=  time.time() - tic\n",
    "    \n",
    "    tic = time.time()\n",
    "    ora_beta, ora_fit = low_dim(X[:,true_set], Y).fit(tau=tau)\n",
    "    runtime[3] += time.time() - tic\n",
    "    est_beta[true_set+1, 3] = ora_beta[1:]\n",
    "    \n",
    "    est_loc = np.sign(abs(est_beta[1:,:]))\n",
    "    # squared L2-error (coefficients)\n",
    "    metrics[:,0,m] = np.sum((est_beta[1:,:] - beta[:,None])**2, axis=0)\n",
    "    # selected model size\n",
    "    metrics[:,1,m] = np.sum(est_loc, axis=0)\n",
    "    # true positives\n",
    "    metrics[:,2,m] = np.sum(est_loc*true_loc[:,None], axis=0)\n",
    "    # false positives\n",
    "    metrics[:,3,m] = metrics[:,1,m] - metrics[:,2,m]\n",
    "    # lambda_min (the value of lambda that gives minimum mean cross-validated error)\n",
    "    metrics[0,4,m], metrics[1,4,m], metrics[2,4,m] = l1_fit[1], scad_fit[1], mcp_fit[1]\n",
    "    # CV error\n",
    "    cv_err[0,:,m], cv_err[1,:,m], cv_err[2,:,m] = l1_fit[4], scad_fit[4], mcp_fit[4]"
   ]
  },
  {
   "cell_type": "code",
   "execution_count": 20,
   "id": "23d23699-bb27-425b-957b-818e4af52b57",
   "metadata": {},
   "outputs": [
    {
     "data": {
      "text/html": [
       "<div>\n",
       "<style scoped>\n",
       "    .dataframe tbody tr th:only-of-type {\n",
       "        vertical-align: middle;\n",
       "    }\n",
       "\n",
       "    .dataframe tbody tr th {\n",
       "        vertical-align: top;\n",
       "    }\n",
       "\n",
       "    .dataframe thead th {\n",
       "        text-align: right;\n",
       "    }\n",
       "</style>\n",
       "<table border=\"1\" class=\"dataframe\">\n",
       "  <thead>\n",
       "    <tr style=\"text-align: right;\">\n",
       "      <th></th>\n",
       "      <th>coef_mse</th>\n",
       "      <th>(std)</th>\n",
       "      <th>model_size</th>\n",
       "      <th>true_pos</th>\n",
       "      <th>false_pos</th>\n",
       "      <th>lambda_min</th>\n",
       "    </tr>\n",
       "  </thead>\n",
       "  <tbody>\n",
       "    <tr>\n",
       "      <th>l1-conquer</th>\n",
       "      <td>0.455839</td>\n",
       "      <td>0.190290</td>\n",
       "      <td>45.00</td>\n",
       "      <td>8.0</td>\n",
       "      <td>37.00</td>\n",
       "      <td>0.049060</td>\n",
       "    </tr>\n",
       "    <tr>\n",
       "      <th>scad-conquer</th>\n",
       "      <td>0.083211</td>\n",
       "      <td>0.045549</td>\n",
       "      <td>8.62</td>\n",
       "      <td>8.0</td>\n",
       "      <td>0.62</td>\n",
       "      <td>0.101295</td>\n",
       "    </tr>\n",
       "    <tr>\n",
       "      <th>mcp-conquer</th>\n",
       "      <td>0.091530</td>\n",
       "      <td>0.056093</td>\n",
       "      <td>8.40</td>\n",
       "      <td>8.0</td>\n",
       "      <td>0.40</td>\n",
       "      <td>0.106042</td>\n",
       "    </tr>\n",
       "    <tr>\n",
       "      <th>oracle-conquer</th>\n",
       "      <td>0.076522</td>\n",
       "      <td>0.042648</td>\n",
       "      <td>8.00</td>\n",
       "      <td>8.0</td>\n",
       "      <td>0.00</td>\n",
       "      <td>0.000000</td>\n",
       "    </tr>\n",
       "  </tbody>\n",
       "</table>\n",
       "</div>"
      ],
      "text/plain": [
       "                coef_mse     (std)  model_size  true_pos  false_pos  \\\n",
       "l1-conquer      0.455839  0.190290       45.00       8.0      37.00   \n",
       "scad-conquer    0.083211  0.045549        8.62       8.0       0.62   \n",
       "mcp-conquer     0.091530  0.056093        8.40       8.0       0.40   \n",
       "oracle-conquer  0.076522  0.042648        8.00       8.0       0.00   \n",
       "\n",
       "                lambda_min  \n",
       "l1-conquer        0.049060  \n",
       "scad-conquer      0.101295  \n",
       "mcp-conquer       0.106042  \n",
       "oracle-conquer    0.000000  "
      ]
     },
     "execution_count": 20,
     "metadata": {},
     "output_type": "execute_result"
    }
   ],
   "source": [
    "cv_l1 = {\"coef_mse\": np.mean(metrics[0,0,:]),\n",
    "         \"(std)\": np.std(metrics[0,0,:]),\n",
    "         \"model_size\": np.mean(metrics[0,1,:]),\n",
    "         \"true_pos\": np.mean(metrics[0,2,:]), \n",
    "         \"false_pos\": np.mean(metrics[0,3,:]),\n",
    "         \"lambda_min\": np.mean(metrics[0,4,:])}\n",
    "cv_scad = {\"coef_mse\": np.mean(metrics[1,0,:]),\n",
    "           \"(std)\": np.std(metrics[1,0,:]),\n",
    "           \"model_size\": np.mean(metrics[1,1,:]),\n",
    "           \"true_pos\": np.mean(metrics[1,2,:]), \n",
    "           \"false_pos\": np.mean(metrics[1,3,:]), \n",
    "           \"lambda_min\": np.mean(metrics[1,4,:])}\n",
    "cv_mcp = {\"coef_mse\": np.mean(metrics[2,0,:]), \n",
    "          \"(std)\": np.std(metrics[2,0,:]), \n",
    "          \"model_size\": np.mean(metrics[2,1,:]), \n",
    "          \"true_pos\": np.mean(metrics[2,2,:]), \n",
    "          \"false_pos\": np.mean(metrics[2,3,:]), \n",
    "          \"lambda_min\": np.mean(metrics[2,4,:])}\n",
    "ora = {\"coef_mse\": np.mean(metrics[3,0,:]), \n",
    "       \"(std)\": np.std(metrics[3,0,:]),\n",
    "       \"model_size\": np.mean(metrics[3,1,:]),\n",
    "       \"true_pos\": np.mean(metrics[3,2,:]), \n",
    "       \"false_pos\": np.mean(metrics[3,3,:]), \n",
    "       \"lambda_min\": np.mean(metrics[3,4,:])}\n",
    "cv_out = pd.DataFrame(data=[cv_l1, cv_scad, cv_mcp, ora], \n",
    "                      index=[\"l1-conquer\", \"scad-conquer\",\"mcp-conquer\",\"oracle-conquer\"])\n",
    "cv_out"
   ]
  },
  {
   "cell_type": "code",
   "execution_count": 21,
   "id": "cc48ef83-2ff1-4246-8a97-6dfe217a5824",
   "metadata": {},
   "outputs": [
    {
     "data": {
      "image/png": "[encoded data removed]",
      "text/plain": [
       "<Figure size 432x288 with 1 Axes>"
      ]
     },
     "metadata": {
      "needs_background": "light"
     },
     "output_type": "display_data"
    }
   ],
   "source": [
    "def cv_legend(x, y1, y2, y3):\n",
    "    plt.clf()\n",
    "    plt.plot(x,y1,label='l1')\n",
    "    plt.plot(x,y2,label='scad')\n",
    "    plt.plot(x,y3,label='mcp')\n",
    "    plt.title(\"5-Fold CV Error of Regularized Conquer\")\n",
    "    plt.xlabel(\"lambda value\")\n",
    "    plt.ylabel(\"CV error\")\n",
    "    plt.legend()\n",
    "\n",
    "cv_legend(lambda_seq,\n",
    "          np.mean(cv_err[0,:,:], axis=1),\n",
    "          np.mean(cv_err[1,:,:], axis=1),\n",
    "          np.mean(cv_err[2,:,:], axis=1))"
   ]
  },
  {
   "cell_type": "code",
   "execution_count": null,
   "id": "dfe3c1f6-a370-4c4b-83c8-3c52fc0197ca",
   "metadata": {},
   "outputs": [],
   "source": []
  }
 ],
 "metadata": {
  "kernelspec": {
   "display_name": "Python 3",
   "language": "python",
   "name": "python3"
  },
  "language_info": {
   "codemirror_mode": {
    "name": "ipython",
    "version": 3
   },
   "file_extension": ".py",
   "mimetype": "text/x-python",
   "name": "python",
   "nbconvert_exporter": "python",
   "pygments_lexer": "ipython3",
   "version": "3.8.8"
  }
 },
 "nbformat": 4,
 "nbformat_minor": 5
}
