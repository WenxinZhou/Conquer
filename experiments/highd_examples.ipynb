{
 "cells": [
  {
   "cell_type": "code",
   "execution_count": 1,
   "id": "33710622-d26d-4126-9b2a-967dd3cf2cc7",
   "metadata": {},
   "outputs": [],
   "source": [
    "import numpy as np\n",
    "import pandas as pd\n",
    "import numpy.random as rgt\n",
    "import matplotlib.pyplot as plt\n",
    "import scipy.stats as spstat\n",
    "import time\n",
    "\n",
    "from conquer.linear_model import low_dim, high_dim, cv_lambda, validate_lambda\n",
    "\n",
    "def cov_generate(std, corr=0.5):\n",
    "    p = len(std)\n",
    "    R = np.zeros(shape=[p,p])\n",
    "    for j in range(p-1):\n",
    "        R[j, j+1:] = np.array(range(1, len(R[j,j+1:])+1))\n",
    "    R += R.T\n",
    "    return np.outer(std, std)*(corr*np.ones(shape=[p,p]))**R\n",
    "\n",
    "rgt.seed(1)"
   ]
  },
  {
   "cell_type": "markdown",
   "id": "57abdc7a-d036-49a2-be3a-ff6890cfbafc",
   "metadata": {},
   "source": [
    "The reference machine used for the simulations below is a Mac Pro with a 3.2 GHz 16-Core Intel Xeon processor and 96 GB of RAM. Each simulation exploits only one processor, without any parallelism."
   ]
  },
  {
   "cell_type": "markdown",
   "id": "b049bfbb-c1a7-436a-b399-7555d089b981",
   "metadata": {},
   "source": [
    "## Model 1\n",
    "\n",
    "Let $z=(z_1, \\ldots, z_p)^T \\sim N(0, \\Sigma)$ with $\\Sigma = (0.5^{|j-k|})_{1\\leq j, k \\leq p}$. Generate independent data vectors $\\{(y_i , x_i) \\}_{i=1}^n$ from the model $y_i =   \\langle x_i, \\beta^*  \\rangle    + 0.7 x_{i1}  \\varepsilon_i$, where $x_i = (x_{i1}, \\ldots, x_{ip})^T \\sim (\\Phi(z_1), z_2, \\ldots, z_p)^T$, $\\varepsilon_i \\sim N(0,1)$ are independent of $x_i$, and $\\beta^* \\in \\mathbb R^p$ is sparse with $\\beta^*_6 = \\beta^*_{12} =\\beta^*_{15} = \\beta^*_{20} =1$.\n",
    "\n",
    "Consider two quantile levels: $\\tau=0.5$ and $\\tau=0.7$. Note that the effect of $x_{i1}$ is only present for $\\tau=0.7$."
   ]
  },
  {
   "cell_type": "code",
   "execution_count": 2,
   "id": "b52ac53f-da25-410b-b66c-634837a6faed",
   "metadata": {},
   "outputs": [],
   "source": [
    "n, p = 300, 1000\n",
    "Mu, Sig = np.zeros(p), cov_generate(np.ones(p))\n",
    "beta = np.zeros(p)\n",
    "beta[[5, 11, 14, 19]] = 1\n",
    "\n",
    "M = 100\n",
    "coef_err = np.zeros(shape=(M,3))\n",
    "tp = np.zeros(shape=(M,3))\n",
    "fp = np.zeros(shape=(M,3))"
   ]
  },
  {
   "cell_type": "markdown",
   "id": "0882b37d-ce11-486b-ad3a-4c9462a7ce9c",
   "metadata": {},
   "source": [
    "### Case 1: $\\tau=0.5$."
   ]
  },
  {
   "cell_type": "code",
   "execution_count": 3,
   "id": "eefb38b8-3210-48d1-b40b-bd5e7b4ea690",
   "metadata": {},
   "outputs": [
    {
     "name": "stdout",
     "output_type": "stream",
     "text": [
      "           l1-conquer  irw-conquer  oracle-conquer\n",
      "coef err     0.033260     0.001097        0.000977\n",
      "(std)        0.010645     0.000816        0.000741\n",
      "true pos     4.000000     4.000000        4.000000\n",
      "false pos    0.280000     0.050000        0.000000\n",
      "runtime      0.028413     0.039652        0.001388\n",
      "\n",
      "X1 selection rate: 0.0\n"
     ]
    }
   ],
   "source": [
    "tau = 0.5\n",
    "true_beta = np.copy(beta)\n",
    "true_beta[0] = 0.7*spstat.norm.ppf(tau)\n",
    "true_set = np.where(true_beta!=0)[0]\n",
    "\n",
    "runtime = np.zeros(3)\n",
    "for m in range(M):\n",
    "    X = rgt.multivariate_normal(mean=Mu, cov=Sig, size=n)\n",
    "    X[:,0] = spstat.norm.cdf(X[:,0])\n",
    "    Y = X.dot(beta) + 0.7*X[:,0]*rgt.normal(0,1,size=n)\n",
    "\n",
    "    sqr = high_dim(X, Y, intercept=False)\n",
    "    sim_lambda = np.quantile(sqr.self_tuning(tau), 0.95)\n",
    "    \n",
    "    ## l1-penalized conquer (l1 conquer)\n",
    "    tic = time.time()\n",
    "    l1_model = sqr.l1(tau, 0.7*sim_lambda)\n",
    "    runtime[0] += time.time() - tic\n",
    "\n",
    "    ## Iteratively reweighted l1-penalized conquer (IRW-l1 conquer)\n",
    "    tic = time.time()\n",
    "    irw_model = sqr.irw(tau, 0.7*sim_lambda)\n",
    "    runtime[1] += time.time() - tic\n",
    "\n",
    "    ## Oracle conquer\n",
    "    tic = time.time()\n",
    "    ora_model = low_dim(X[:,true_set], Y, intercept=False).fit(tau=tau)\n",
    "    runtime[2] = runtime[2] + time.time() - tic\n",
    "    \n",
    "    est = np.c_[(l1_model['beta'], irw_model['beta'], np.zeros(p))]\n",
    "    est[:,2][beta!=0] = ora_model['beta']\n",
    "    est = pd.DataFrame(est)\n",
    "\n",
    "    coef_err[m,:] = (est - beta[:,None]).pow(2).sum(axis=0) \n",
    "    tp[m,:] = (est.ne(0) * (beta!=0)[:,None]).sum(axis=0) \n",
    "    fp[m,:] = (est.ne(0) * (beta==0)[:,None]).sum(axis=0)\n",
    "    \n",
    "out1 = pd.DataFrame(np.array([np.mean(coef_err, axis=0), np.std(coef_err, axis=0), \n",
    "                              np.mean(tp, axis=0), np.mean(fp, axis=0), runtime/M]),\n",
    "                    columns=['l1-conquer', 'irw-conquer', 'oracle-conquer'],\n",
    "                    index=['coef err', '(std)', 'true pos', 'false pos', 'runtime'])\n",
    "print(out1)\n",
    "print('\\nX1 selection rate:', np.mean(tp[:,1]==5))"
   ]
  },
  {
   "cell_type": "markdown",
   "id": "4233b5ec-32a4-4d9e-9435-d9ec6f94d26f",
   "metadata": {},
   "source": [
    "### Case 2: $\\tau=0.7$."
   ]
  },
  {
   "cell_type": "code",
   "execution_count": 4,
   "id": "be30b6e2-b14a-4788-808b-3167f7ad0205",
   "metadata": {},
   "outputs": [
    {
     "name": "stdout",
     "output_type": "stream",
     "text": [
      "           l1-conquer  irw-conquer  oracle-conquer\n",
      "coef err     0.034493     0.005991        0.005362\n",
      "(std)        0.013487     0.006118        0.005289\n",
      "true pos     5.000000     5.000000        5.000000\n",
      "false pos    0.270000     0.010000        0.000000\n",
      "runtime      0.067026     0.113379        0.002512\n",
      "\n",
      "X1 selection rate: 1.0\n"
     ]
    }
   ],
   "source": [
    "tau = 0.7\n",
    "true_beta = np.copy(beta)\n",
    "true_beta[0] = 0.7*spstat.norm.ppf(tau)\n",
    "true_set = np.where(true_beta!=0)[0]\n",
    "\n",
    "runtime = np.zeros(3)\n",
    "for m in range(M):\n",
    "    X = rgt.multivariate_normal(mean=Mu, cov=Sig, size=n)\n",
    "    X[:,0] = spstat.norm.cdf(X[:,0])\n",
    "    Y = X.dot(beta) + 0.7*X[:,0]*rgt.normal(0,1,size=n)\n",
    "\n",
    "    sqr = high_dim(X, Y, intercept=False)\n",
    "    sim_lambda = np.quantile(sqr.self_tuning(tau), 0.95)\n",
    "    \n",
    "    ## l1-penalized conquer (l1 conquer)\n",
    "    tic = time.time()\n",
    "    l1_model = sqr.l1(tau, 0.7*sim_lambda)\n",
    "    runtime[0] += time.time() - tic\n",
    "\n",
    "    ## Iteratively reweighted l1-penalized conquer (IRW-l1 conquer)\n",
    "    tic = time.time()\n",
    "    irw_model = sqr.irw(tau, 0.7*sim_lambda)\n",
    "    runtime[1] += time.time() - tic\n",
    "\n",
    "    ## Oracle conquer\n",
    "    tic = time.time()\n",
    "    ora_model = low_dim(X[:,true_set], Y, intercept=False).fit(tau=tau)\n",
    "    runtime[2] = runtime[2] + time.time() - tic\n",
    "    \n",
    "    est = np.c_[(l1_model['beta'], irw_model['beta'], np.zeros(p))]\n",
    "    est[:,2][true_beta!=0] = ora_model['beta']\n",
    "    est = pd.DataFrame(est)\n",
    "\n",
    "    coef_err[m,:] = (est - true_beta[:,None]).pow(2).sum(axis=0) \n",
    "    tp[m,:] = (est.ne(0) * (true_beta!=0)[:,None]).sum(axis=0) \n",
    "    fp[m,:] = (est.ne(0) * (true_beta==0)[:,None]).sum(axis=0)\n",
    "\n",
    "out2 = pd.DataFrame(np.array([np.mean(coef_err, axis=0), np.std(coef_err, axis=0), \n",
    "                              np.mean(tp, axis=0), np.mean(fp, axis=0), runtime/M]),\n",
    "                    columns=['l1-conquer', 'irw-conquer', 'oracle-conquer'],\n",
    "                    index=['coef err', '(std)', 'true pos', 'false pos', 'runtime'])\n",
    "print(out2)\n",
    "print('\\nX1 selection rate:', np.mean(tp[:,1]==5))"
   ]
  },
  {
   "cell_type": "code",
   "execution_count": null,
   "id": "13ea17c1-44ad-4917-bda3-de13191cf2aa",
   "metadata": {},
   "outputs": [],
   "source": []
  },
  {
   "cell_type": "code",
   "execution_count": null,
   "id": "7214a860-c999-4649-8031-02fd110eb8b0",
   "metadata": {},
   "outputs": [],
   "source": []
  },
  {
   "cell_type": "markdown",
   "id": "85c61337-a350-47b2-b182-0337cb389b98",
   "metadata": {},
   "source": [
    "## Model 2\n",
    "\n",
    "Construct the covariance matrix $\\Sigma = (\\sigma_j \\sigma_k 0.5^{|j-k|})_{1\\leq j, k \\leq p}$, where $\\sigma_1, \\ldots, \\sigma_p$ are independently generated from Unif$(1,2)$.\n",
    "Generate independent data vectors $\\{(y_i , x_i) \\}_{i=1}^n$ from the model $y_i =  4 + \\langle x_i, \\beta^*  \\rangle    +   \\varepsilon_i - F_{ \\varepsilon_i}^{-1}(\\tau)$, where $x_i \\sim N(0, \\Sigma)$ and $\\varepsilon_i \\sim t_2$ are independent, and $\\beta^* \\in \\mathbb R^p$ is sparse."
   ]
  },
  {
   "cell_type": "code",
   "execution_count": 5,
   "id": "68d16d77-e264-4d91-afee-8d90633bff05",
   "metadata": {},
   "outputs": [],
   "source": [
    "n, p = 256, 1028\n",
    "tau = 0.75\n",
    "Mu, Sig = np.zeros(p), cov_generate(rgt.uniform(1,2,size=p))\n",
    "itcp, beta = 4, np.zeros(p)\n",
    "beta[:15] = [1.6, 0, 1.4, 0, 1.2, 0, 1, 0, -1, 0, -1.2, 0, -1.4, 0, -1.6]\n",
    "true_set = np.where(beta!=0)[0]\n",
    "true_loc = np.zeros(p)\n",
    "true_loc[true_set] = 1"
   ]
  },
  {
   "cell_type": "markdown",
   "id": "9766741c-7251-4549-bdb8-48e894780bf4",
   "metadata": {},
   "source": [
    "### 2.1. Simulation results for $\\ell_1$- and iteratively reweighted $\\ell_1$-penalized conquer\n",
    "\n",
    "The penality level $\\lambda>0$ is determined by a simulation-based method."
   ]
  },
  {
   "cell_type": "code",
   "execution_count": 6,
   "id": "1d00ff94-3e7e-4725-bc1e-6cd8218f4a66",
   "metadata": {},
   "outputs": [
    {
     "data": {
      "text/html": [
       "<div>\n",
       "<style scoped>\n",
       "    .dataframe tbody tr th:only-of-type {\n",
       "        vertical-align: middle;\n",
       "    }\n",
       "\n",
       "    .dataframe tbody tr th {\n",
       "        vertical-align: top;\n",
       "    }\n",
       "\n",
       "    .dataframe thead th {\n",
       "        text-align: right;\n",
       "    }\n",
       "</style>\n",
       "<table border=\"1\" class=\"dataframe\">\n",
       "  <thead>\n",
       "    <tr style=\"text-align: right;\">\n",
       "      <th></th>\n",
       "      <th>itcp err</th>\n",
       "      <th>(itcp std)</th>\n",
       "      <th>coef err</th>\n",
       "      <th>(coef std)</th>\n",
       "      <th>true pos</th>\n",
       "      <th>false pos</th>\n",
       "      <th>runtime</th>\n",
       "    </tr>\n",
       "  </thead>\n",
       "  <tbody>\n",
       "    <tr>\n",
       "      <th>l1</th>\n",
       "      <td>0.485057</td>\n",
       "      <td>0.235488</td>\n",
       "      <td>0.800660</td>\n",
       "      <td>0.418902</td>\n",
       "      <td>8.0</td>\n",
       "      <td>3.43</td>\n",
       "      <td>0.206480</td>\n",
       "    </tr>\n",
       "    <tr>\n",
       "      <th>irw-l1</th>\n",
       "      <td>0.099038</td>\n",
       "      <td>0.076327</td>\n",
       "      <td>0.064857</td>\n",
       "      <td>0.060065</td>\n",
       "      <td>8.0</td>\n",
       "      <td>1.68</td>\n",
       "      <td>0.226243</td>\n",
       "    </tr>\n",
       "    <tr>\n",
       "      <th>oracle</th>\n",
       "      <td>0.096395</td>\n",
       "      <td>0.072208</td>\n",
       "      <td>0.052495</td>\n",
       "      <td>0.033664</td>\n",
       "      <td>8.0</td>\n",
       "      <td>0.00</td>\n",
       "      <td>0.005133</td>\n",
       "    </tr>\n",
       "  </tbody>\n",
       "</table>\n",
       "</div>"
      ],
      "text/plain": [
       "        itcp err  (itcp std)  coef err  (coef std)  true pos  false pos  \\\n",
       "l1      0.485057    0.235488  0.800660    0.418902       8.0       3.43   \n",
       "irw-l1  0.099038    0.076327  0.064857    0.060065       8.0       1.68   \n",
       "oracle  0.096395    0.072208  0.052495    0.033664       8.0       0.00   \n",
       "\n",
       "         runtime  \n",
       "l1      0.206480  \n",
       "irw-l1  0.226243  \n",
       "oracle  0.005133  "
      ]
     },
     "execution_count": 6,
     "metadata": {},
     "output_type": "execute_result"
    }
   ],
   "source": [
    "M = 100\n",
    "runtime = np.zeros(3)\n",
    "itcp_err, coef_err = np.zeros(shape=(M,3)), np.zeros(shape=(M,3))\n",
    "tp, fp = np.zeros(shape=(M,3)), np.zeros(shape=(M,3))\n",
    "\n",
    "for m in range(M):\n",
    "    X = rgt.multivariate_normal(mean=Mu, cov=Sig, size=n)\n",
    "    Y = itcp*np.ones(n) + X.dot(beta) + rgt.standard_t(2,size=n) - spstat.t.ppf(tau,df=2)\n",
    " \n",
    "    sqr = high_dim(X, Y)\n",
    "    sim_lambda = np.quantile(sqr.self_tuning(tau), 0.95)\n",
    "\n",
    "    ## l1-penalized conquer\n",
    "    tic = time.time()\n",
    "    l1 = sqr.l1(tau=tau, Lambda=0.7*sim_lambda)\n",
    "    runtime[0] += time.time() - tic\n",
    "\n",
    "    ## Iteratively reweighted l1-penalized conquer (default is SCAD penality)\n",
    "    tic = time.time()\n",
    "    irw = sqr.irw(tau=tau, Lambda=0.7*sim_lambda)\n",
    "    runtime[1] += time.time() - tic\n",
    "\n",
    "    ## Oracle conquer\n",
    "    tic = time.time()\n",
    "    sqr = low_dim(X[:,true_set], Y)\n",
    "    ora = sqr.fit(tau=tau)\n",
    "    runtime[2] += time.time() - tic\n",
    "    \n",
    "    est = np.c_[(l1['beta'], irw['beta'], np.zeros(p+1))]\n",
    "    est[0,2], est[1:,2][beta!=0] = ora['beta'][0], ora['beta'][1:]\n",
    "    est = pd.DataFrame(est)\n",
    "    \n",
    "    itcp_err[m,:] = (est.iloc[0] - itcp).abs()\n",
    "    coef_err[m,:] = (est.iloc[1:] - beta[:,None]).pow(2).sum(axis=0)\n",
    "    tp[m,:] = (est.iloc[1:].ne(0) * (beta!=0)[:,None]).sum(axis=0)\n",
    "    fp[m,:] = (est.iloc[1:].ne(0) * (beta==0)[:,None]).sum(axis=0)\n",
    "    \n",
    "table = {'itcp err':   np.mean(itcp_err, axis=0), '(itcp std)': np.std(itcp_err, axis=0), \n",
    "         'coef err':   np.mean(coef_err, axis=0), '(coef std)': np.std(coef_err, axis=0),\n",
    "         'true pos':   np.mean(tp, axis=0), \n",
    "         'false pos':  np.mean(fp, axis=0), \n",
    "         'runtime':    runtime/M} \n",
    "pd.DataFrame(table, index=['l1', 'irw-l1','oracle'])"
   ]
  },
  {
   "cell_type": "markdown",
   "id": "cb89e5b4-e1ca-4937-9722-85dcfb65cbe2",
   "metadata": {},
   "source": [
    "### 2.2. Solution paths of $\\ell_1$- and iteratively reweighted $\\ell_1$-penalized conquer"
   ]
  },
  {
   "cell_type": "code",
   "execution_count": 7,
   "id": "7e563060-9aa1-4eb6-b4ca-e7843b9967b2",
   "metadata": {},
   "outputs": [],
   "source": [
    "nlambda, M = 50, 100\n",
    "runtime = np.zeros(2)\n",
    "l1_sse, l1_tp, l1_fp = np.zeros([nlambda, M]), np.zeros([nlambda, M]), np.zeros([nlambda, M])\n",
    "irw_sse, irw_tp, irw_fp = np.zeros([nlambda, M]), np.zeros([nlambda, M]), np.zeros([nlambda, M])\n",
    "\n",
    "for m in range(M):\n",
    "    X = rgt.multivariate_normal(mean=Mu, cov=Sig, size=n)\n",
    "    Y = itcp + X.dot(beta) + rgt.standard_t(2,size=n) - spstat.t.ppf(tau,df=2)\n",
    "    sqr = high_dim(X, Y, intercept=True)\n",
    "\n",
    "    ## l1-penalized conquer\n",
    "    tic = time.time()\n",
    "    l1 = sqr.l1_path(tau=tau, nlambda=nlambda, order='descend')\n",
    "    runtime[0] += time.time() - tic\n",
    "    \n",
    "    ## irw-l1-penalized conquer\n",
    "    tic = time.time()\n",
    "    irw = sqr.irw_path(tau=tau, lambda_seq=l1['lambda_seq'], order='descend')\n",
    "    runtime[1] += time.time() - tic\n",
    "    \n",
    "    l1_sse[:,m] = np.sum((l1['beta_seq'][1:,:] - beta[:,None])**2, axis=0)\n",
    "    irw_sse[:,m] = np.sum((irw['beta_seq'][1:,:] - beta[:,None])**2, axis=0)\n",
    "    l1_loc = np.sign(abs(l1['beta_seq'][1:,:]))\n",
    "    irw_loc = np.sign(abs(irw['beta_seq'][1:,:]))\n",
    "    l1_tp[:,m] = np.sum(l1_loc*true_loc[:,None], axis=0)\n",
    "    irw_tp[:,m] = np.sum(irw_loc*true_loc[:,None], axis=0)\n",
    "    l1_fp[:,m] = np.sum(l1_loc, axis=0) - l1_tp[:,m]\n",
    "    irw_fp[:,m] = np.sum(irw_loc, axis=0) - irw_tp[:,m]\n",
    "\n",
    "l1_tot, irw_tot = l1_fp + l1_tp, irw_fp + irw_tp\n",
    "l1_fdr = np.mean(l1_fp / np.where(l1_tot==0, 1, l1_tot), axis=1)\n",
    "irw_fdr = np.mean(irw_fp / np.where(irw_tot==0, 1, irw_tot), axis=1)\n",
    "l1_tpr = np.mean(l1_tp / len(true_set), axis=1)\n",
    "irw_tpr = np.mean(irw_tp / len(true_set), axis=1)"
   ]
  },
  {
   "cell_type": "code",
   "execution_count": 8,
   "id": "8c45e1b3-ea5f-4832-9445-808d2fc7febf",
   "metadata": {},
   "outputs": [
    {
     "data": {
      "text/plain": [
       "<matplotlib.legend.Legend at 0x7f8e00202670>"
      ]
     },
     "execution_count": 8,
     "metadata": {},
     "output_type": "execute_result"
    },
    {
     "data": {
      "image/png": "[encoded data removed]",
      "text/plain": [
       "<Figure size 432x288 with 1 Axes>"
      ]
     },
     "metadata": {
      "needs_background": "light"
     },
     "output_type": "display_data"
    }
   ],
   "source": [
    "# FDR along the solution path\n",
    "plt.plot(l1_fdr, label='l1-conquer')\n",
    "plt.plot(irw_fdr, label='irw-conquer')\n",
    "plt.title(\"FDR along the solution path\")\n",
    "plt.ylabel(\"false discovery rate\")\n",
    "plt.legend()"
   ]
  },
  {
   "cell_type": "code",
   "execution_count": 9,
   "id": "0a1fb547-7d42-49d2-a470-975089ba29a8",
   "metadata": {},
   "outputs": [
    {
     "data": {
      "text/plain": [
       "<matplotlib.legend.Legend at 0x7f8e42189400>"
      ]
     },
     "execution_count": 9,
     "metadata": {},
     "output_type": "execute_result"
    },
    {
     "data": {
      "image/png": "[encoded data removed]",
      "text/plain": [
       "<Figure size 432x288 with 1 Axes>"
      ]
     },
     "metadata": {
      "needs_background": "light"
     },
     "output_type": "display_data"
    }
   ],
   "source": [
    "# TPR along the solution path\n",
    "plt.plot(l1_tpr, label='l1-conquer')\n",
    "plt.plot(irw_tpr, label='irw-conquer')\n",
    "plt.title(\"TPR along the solution path\")\n",
    "plt.ylabel(\"true positive rate\")\n",
    "plt.legend()"
   ]
  },
  {
   "cell_type": "code",
   "execution_count": 10,
   "id": "b536b441-873c-4f57-b837-a3f6bbd29bfd",
   "metadata": {},
   "outputs": [
    {
     "data": {
      "text/plain": [
       "<matplotlib.legend.Legend at 0x7f8e30275e80>"
      ]
     },
     "execution_count": 10,
     "metadata": {},
     "output_type": "execute_result"
    },
    {
     "data": {
      "image/png": "[encoded data removed]",
      "text/plain": [
       "<Figure size 432x288 with 1 Axes>"
      ]
     },
     "metadata": {
      "needs_background": "light"
     },
     "output_type": "display_data"
    }
   ],
   "source": [
    "# MSE along the solution path\n",
    "plt.plot(l1['lambda_seq'], np.mean(l1_sse, axis=1), label='l1-conquer')\n",
    "plt.plot(l1['lambda_seq'], np.mean(irw_sse, axis=1), label='irw-conquer')\n",
    "plt.title(\"MSE along the solution path\")\n",
    "plt.ylabel(\"mean squared error\")\n",
    "plt.legend()"
   ]
  },
  {
   "cell_type": "markdown",
   "id": "221d6300-10c7-427a-94ef-213058ce1f03",
   "metadata": {},
   "source": [
    "### 2.3. Train ($\\ell_1$, SCAD, MCP) penalized conquer on a validation set\n",
    "\n",
    "$\\ell_1$-conquer: $\\ell_1$-penalized conquer;\n",
    "\n",
    "scad-conquer: iteratively reweighted $\\ell_1$-penalized conquer using SCAD-based weights;\n",
    "\n",
    "mcp-conquer: iteratively reweighted $\\ell_1$-penalized conquer using MCP-based weights;\n",
    "\n",
    "oracle: conquer estimator fitted on the true model."
   ]
  },
  {
   "cell_type": "code",
   "execution_count": 11,
   "id": "7bb41cc0-96e4-4593-b28a-420c5266d47b",
   "metadata": {},
   "outputs": [
    {
     "data": {
      "text/html": [
       "<div>\n",
       "<style scoped>\n",
       "    .dataframe tbody tr th:only-of-type {\n",
       "        vertical-align: middle;\n",
       "    }\n",
       "\n",
       "    .dataframe tbody tr th {\n",
       "        vertical-align: top;\n",
       "    }\n",
       "\n",
       "    .dataframe thead th {\n",
       "        text-align: right;\n",
       "    }\n",
       "</style>\n",
       "<table border=\"1\" class=\"dataframe\">\n",
       "  <thead>\n",
       "    <tr style=\"text-align: right;\">\n",
       "      <th></th>\n",
       "      <th>coef_mse</th>\n",
       "      <th>(std)</th>\n",
       "      <th>size</th>\n",
       "      <th>TP</th>\n",
       "      <th>FP</th>\n",
       "      <th>lambda_min</th>\n",
       "      <th>runtime</th>\n",
       "    </tr>\n",
       "  </thead>\n",
       "  <tbody>\n",
       "    <tr>\n",
       "      <th>l1-conquer</th>\n",
       "      <td>0.399494</td>\n",
       "      <td>0.157885</td>\n",
       "      <td>51.62</td>\n",
       "      <td>8.0</td>\n",
       "      <td>43.62</td>\n",
       "      <td>0.046448</td>\n",
       "      <td>0.351332</td>\n",
       "    </tr>\n",
       "    <tr>\n",
       "      <th>scad-conquer</th>\n",
       "      <td>0.071973</td>\n",
       "      <td>0.049828</td>\n",
       "      <td>10.54</td>\n",
       "      <td>8.0</td>\n",
       "      <td>2.54</td>\n",
       "      <td>0.092195</td>\n",
       "      <td>1.665262</td>\n",
       "    </tr>\n",
       "    <tr>\n",
       "      <th>mcp-conquer</th>\n",
       "      <td>0.073496</td>\n",
       "      <td>0.057208</td>\n",
       "      <td>9.40</td>\n",
       "      <td>8.0</td>\n",
       "      <td>1.40</td>\n",
       "      <td>0.098280</td>\n",
       "      <td>1.749911</td>\n",
       "    </tr>\n",
       "    <tr>\n",
       "      <th>oracle</th>\n",
       "      <td>0.060837</td>\n",
       "      <td>0.036207</td>\n",
       "      <td>8.00</td>\n",
       "      <td>8.0</td>\n",
       "      <td>0.00</td>\n",
       "      <td>0.000000</td>\n",
       "      <td>0.003238</td>\n",
       "    </tr>\n",
       "  </tbody>\n",
       "</table>\n",
       "</div>"
      ],
      "text/plain": [
       "              coef_mse     (std)   size   TP     FP  lambda_min   runtime\n",
       "l1-conquer    0.399494  0.157885  51.62  8.0  43.62    0.046448  0.351332\n",
       "scad-conquer  0.071973  0.049828  10.54  8.0   2.54    0.092195  1.665262\n",
       "mcp-conquer   0.073496  0.057208   9.40  8.0   1.40    0.098280  1.749911\n",
       "oracle        0.060837  0.036207   8.00  8.0   0.00    0.000000  0.003238"
      ]
     },
     "execution_count": 11,
     "metadata": {},
     "output_type": "execute_result"
    }
   ],
   "source": [
    "n_val = 128\n",
    "nlambda, M = 50, 100\n",
    "## [coef_se, model_size, true_pos, false_pos, lambda_min]\n",
    "val_out = np.zeros(shape=(4, 5, M)) \n",
    "runtime = np.zeros(4)\n",
    "\n",
    "for m in range(M):\n",
    "    X_all = rgt.multivariate_normal(mean=Mu, cov=Sig, size=n+n_val)\n",
    "    Y_all = itcp + X_all.dot(beta) + rgt.standard_t(2,n+n_val) - spstat.t.ppf(tau,df=2)\n",
    "    \n",
    "    # training set of size n\n",
    "    X, Y = X_all[:n, :], Y_all[:n]\n",
    "    # validation set of size n_val\n",
    "    X_val, Y_val = X_all[n:,:], Y_all[n:]\n",
    "    sqr = validate_lambda(X, Y, X_val, Y_val, \\\n",
    "                          intercept=True, \\\n",
    "                          options={'warm_start': True})\n",
    "    \n",
    "    lam_max = np.max(high_dim(X, Y).self_tuning(tau))\n",
    "    lambda_seq = np.linspace(0.25*lam_max, lam_max, num=nlambda)\n",
    "    \n",
    "    tic = time.time()\n",
    "    l1 = sqr.train(tau=tau, lambda_seq=lambda_seq, \\\n",
    "                   order='descend', penalty=\"L1\")\n",
    "    runtime[0] +=  time.time() - tic\n",
    "    \n",
    "    tic = time.time()\n",
    "    scad = sqr.train(tau=tau, lambda_seq=lambda_seq, \\\n",
    "                     order='descend', penalty=\"SCAD\", a=3.7)\n",
    "    runtime[1] +=  time.time() - tic\n",
    "    \n",
    "    tic = time.time()\n",
    "    mcp = sqr.train(tau=tau, lambda_seq=lambda_seq, \\\n",
    "                    order='descend', penalty=\"MCP\", a=3)\n",
    "    runtime[2] +=  time.time() - tic   \n",
    "    \n",
    "    tic = time.time()\n",
    "    ora = low_dim(X[:,true_set], Y).fit(tau=tau)\n",
    "    runtime[3] += time.time() - tic \n",
    "    \n",
    "    est = np.c_[(l1['val_beta'], scad['val_beta'],  mcp['val_beta'], np.zeros(p+1))]\n",
    "    est[0,3], est[1:,3][beta!=0] =  ora['beta'][0], ora['beta'][1:]\n",
    "    est = pd.DataFrame(est)\n",
    "    \n",
    "    # squared L2-error (coefficients)\n",
    "    val_out[:,0,m] = (est.iloc[1:] - beta[:,None]).pow(2).sum(axis=0)\n",
    "    # selected model size\n",
    "    val_out[:,1,m] = est.iloc[1:].ne(0).sum(axis=0)\n",
    "    # true positives\n",
    "    val_out[:,2,m] = (est.iloc[1:].ne(0) * (beta!=0)[:,None]).sum(axis=0)\n",
    "    # false positives\n",
    "    val_out[:,3,m] = val_out[:,1,m] - val_out[:,2,m]\n",
    "    # lambda_min (the value of lambda that gives minimum validation error)\n",
    "    val_out[0,4,m] = l1['lambda_min']\n",
    "    val_out[1,4,m] = scad['lambda_min']\n",
    "    val_out[2,4,m] = mcp['lambda_min']\n",
    "\n",
    "val_table = np.zeros((4, 7))\n",
    "val_table[:,0] = np.mean(val_out[:,0,:], axis=1)\n",
    "val_table[:,1] = np.std(val_out[:,0,:], axis=1)\n",
    "val_table[:,2] = np.mean(val_out[:,1,:], axis=1)\n",
    "val_table[:,3] = np.mean(val_out[:,2,:], axis=1)\n",
    "val_table[:,4] = np.mean(val_out[:,3,:], axis=1)\n",
    "val_table[:,5] = np.mean(val_out[:,4,:], axis=1)\n",
    "val_table[:,6] = runtime/M\n",
    "\n",
    "pd.DataFrame(val_table, columns=['coef_mse','(std)','size','TP','FP','lambda_min','runtime'],\n",
    "             index=[\"l1-conquer\", \"scad-conquer\",\"mcp-conquer\",\"oracle\"])"
   ]
  },
  {
   "cell_type": "markdown",
   "id": "ba437438-0ba0-409b-8dcc-1eaee01a60e8",
   "metadata": {},
   "source": [
    "### 2.4. Cross-validated ($\\ell_1$, SCAD, MCP) penalized conquer"
   ]
  },
  {
   "cell_type": "code",
   "execution_count": 12,
   "id": "354035fe-d8f6-4e9f-9b24-1ed0432544c7",
   "metadata": {},
   "outputs": [
    {
     "data": {
      "text/html": [
       "<div>\n",
       "<style scoped>\n",
       "    .dataframe tbody tr th:only-of-type {\n",
       "        vertical-align: middle;\n",
       "    }\n",
       "\n",
       "    .dataframe tbody tr th {\n",
       "        vertical-align: top;\n",
       "    }\n",
       "\n",
       "    .dataframe thead th {\n",
       "        text-align: right;\n",
       "    }\n",
       "</style>\n",
       "<table border=\"1\" class=\"dataframe\">\n",
       "  <thead>\n",
       "    <tr style=\"text-align: right;\">\n",
       "      <th></th>\n",
       "      <th>coef_mse</th>\n",
       "      <th>(std)</th>\n",
       "      <th>size</th>\n",
       "      <th>TP</th>\n",
       "      <th>FP</th>\n",
       "      <th>lambda_min</th>\n",
       "    </tr>\n",
       "  </thead>\n",
       "  <tbody>\n",
       "    <tr>\n",
       "      <th>l1-conquer</th>\n",
       "      <td>0.409210</td>\n",
       "      <td>0.162329</td>\n",
       "      <td>50.33</td>\n",
       "      <td>8.0</td>\n",
       "      <td>42.33</td>\n",
       "      <td>0.047111</td>\n",
       "    </tr>\n",
       "    <tr>\n",
       "      <th>scad-conquer</th>\n",
       "      <td>0.066873</td>\n",
       "      <td>0.059062</td>\n",
       "      <td>8.94</td>\n",
       "      <td>8.0</td>\n",
       "      <td>0.94</td>\n",
       "      <td>0.097771</td>\n",
       "    </tr>\n",
       "    <tr>\n",
       "      <th>mcp-conquer</th>\n",
       "      <td>0.074293</td>\n",
       "      <td>0.072729</td>\n",
       "      <td>8.74</td>\n",
       "      <td>8.0</td>\n",
       "      <td>0.74</td>\n",
       "      <td>0.101529</td>\n",
       "    </tr>\n",
       "    <tr>\n",
       "      <th>oracle</th>\n",
       "      <td>0.057430</td>\n",
       "      <td>0.039069</td>\n",
       "      <td>8.00</td>\n",
       "      <td>8.0</td>\n",
       "      <td>0.00</td>\n",
       "      <td>0.000000</td>\n",
       "    </tr>\n",
       "  </tbody>\n",
       "</table>\n",
       "</div>"
      ],
      "text/plain": [
       "              coef_mse     (std)   size   TP     FP  lambda_min\n",
       "l1-conquer    0.409210  0.162329  50.33  8.0  42.33    0.047111\n",
       "scad-conquer  0.066873  0.059062   8.94  8.0   0.94    0.097771\n",
       "mcp-conquer   0.074293  0.072729   8.74  8.0   0.74    0.101529\n",
       "oracle        0.057430  0.039069   8.00  8.0   0.00    0.000000"
      ]
     },
     "execution_count": 12,
     "metadata": {},
     "output_type": "execute_result"
    }
   ],
   "source": [
    "nlambda, M = 50, 100\n",
    "runtime = np.zeros(4)\n",
    "cv_err = np.zeros([4, nlambda, M])\n",
    "# [coef_se, model_size, true_pos, false_pos, lambda_min]\n",
    "cv_out = np.zeros([4, 5, M])\n",
    "\n",
    "for m in range(M):\n",
    "    X = rgt.multivariate_normal(mean=Mu, cov=Sig, size=n)\n",
    "    Y = itcp + X.dot(beta) + rgt.standard_t(2,n) - spstat.t.ppf(tau, df=2)\n",
    "    cv_sqr = cv_lambda(X, Y, intercept=True)\n",
    "    \n",
    "    tic = time.time()\n",
    "    cv_l1 = cv_sqr.fit(tau=tau, nlambda=nlambda, \\\n",
    "                       penalty=\"L1\", nfolds=8)\n",
    "    runtime[0] +=  time.time() - tic\n",
    "    \n",
    "    tic = time.time()\n",
    "    cv_scad = cv_sqr.fit(tau=tau, lambda_seq=cv_l1['lambda_seq'], \\\n",
    "                         penalty=\"SCAD\", a=3.7, nfolds=8)\n",
    "    runtime[1] +=  time.time() - tic\n",
    "    \n",
    "    tic = time.time()\n",
    "    cv_mcp = cv_sqr.fit(tau=tau, lambda_seq=cv_l1['lambda_seq'], \\\n",
    "                        penalty=\"MCP\", a=3, nfolds=8)\n",
    "    runtime[2] +=  time.time() - tic\n",
    "    \n",
    "    tic = time.time()\n",
    "    ora = low_dim(X[:,true_set], Y).fit(tau=tau)\n",
    "    runtime[3] += time.time() - tic\n",
    "\n",
    "    est = np.c_[(cv_l1['cv_beta'], cv_scad['cv_beta'], cv_mcp['cv_beta'], np.zeros(p+1))]\n",
    "    est[0,3], est[1:,3][beta!=0] = ora['beta'][0], ora['beta'][1:]\n",
    "    est = pd.DataFrame(est)\n",
    "\n",
    "    # squared L2-error (coefficients)\n",
    "    cv_out[:,0,m] = (est.iloc[1:] - beta[:,None]).pow(2).sum(axis=0)\n",
    "    # selected model size\n",
    "    cv_out[:,1,m] = est.iloc[1:].ne(0).sum(axis=0)\n",
    "    # true positives\n",
    "    cv_out[:,2,m] = (est.iloc[1:].ne(0) * (beta!=0)[:,None]).sum(axis=0)\n",
    "    # false positives\n",
    "    cv_out[:,3,m] = cv_out[:,1,m] - cv_out[:,2,m]\n",
    "    # lambda_min (the value of lambda that gives minimum mean CV error)\n",
    "    cv_out[:3,4,m] = np.array([cv_l1['lambda_min'], cv_scad['lambda_min'], cv_mcp['lambda_min']])\n",
    "    # CV error\n",
    "    cv_err[0,:,m] = cv_l1['cv_err']\n",
    "    cv_err[1,:,m] = cv_scad['cv_err']\n",
    "    cv_err[2,:,m] = cv_mcp['cv_err']\n",
    "    \n",
    "cv_table = np.zeros((4, 6))\n",
    "cv_table[:,0] = np.mean(cv_out[:,0,:], axis=1)\n",
    "cv_table[:,1] = np.std(cv_out[:,0,:], axis=1)\n",
    "cv_table[:,2] = np.mean(cv_out[:,1,:], axis=1)\n",
    "cv_table[:,3] = np.mean(cv_out[:,2,:], axis=1)\n",
    "cv_table[:,4] = np.mean(cv_out[:,3,:], axis=1)\n",
    "cv_table[:,5] = np.mean(cv_out[:,4,:], axis=1)\n",
    "pd.DataFrame(cv_table, columns=['coef_mse','(std)','size','TP','FP','lambda_min'],\n",
    "             index=[\"l1-conquer\", \"scad-conquer\",\"mcp-conquer\",\"oracle\"])"
   ]
  },
  {
   "cell_type": "code",
   "execution_count": 13,
   "id": "cc48ef83-2ff1-4246-8a97-6dfe217a5824",
   "metadata": {},
   "outputs": [
    {
     "data": {
      "image/png": "[encoded data removed]",
      "text/plain": [
       "<Figure size 432x288 with 1 Axes>"
      ]
     },
     "metadata": {
      "needs_background": "light"
     },
     "output_type": "display_data"
    }
   ],
   "source": [
    "def cv_legend(y1, y2, y3):\n",
    "    plt.clf()\n",
    "    plt.plot(y1[::-1],label='l1')\n",
    "    plt.plot(y2[::-1],label='scad')\n",
    "    plt.plot(y3[::-1],label='mcp')\n",
    "    plt.title(\"8-Fold CV Error of Penalized Conquer\")\n",
    "    plt.ylabel(\"CV error\")\n",
    "    plt.legend()\n",
    "    \n",
    "cv_legend(np.mean(cv_err[0,:,:], axis=1),\n",
    "          np.mean(cv_err[1,:,:], axis=1),\n",
    "          np.mean(cv_err[2,:,:], axis=1))"
   ]
  },
  {
   "cell_type": "markdown",
   "id": "43e069e7-5acd-494c-8628-8f325687dc56",
   "metadata": {},
   "source": [
    "### 2.5. Model selection via Bayesian information criterion"
   ]
  },
  {
   "cell_type": "code",
   "execution_count": 14,
   "id": "e1e2d386-1c3e-4ee9-80a4-891d15ecc2c4",
   "metadata": {},
   "outputs": [],
   "source": [
    "M = 100\n",
    "# [coef_se, model_size, true_pos, false_pos, bic_lambda]\n",
    "bic_out = np.zeros([3, 5, M])\n",
    "\n",
    "for m in range(M):\n",
    "    X = rgt.multivariate_normal(mean=Mu, cov=Sig, size=n)\n",
    "    Y = itcp + X.dot(beta) + rgt.standard_t(2,n) - spstat.t.ppf(tau, df=2)\n",
    "    \n",
    "    sqr = high_dim(X, Y, intercept=True)\n",
    "    bic_l1   = sqr.bic(tau=tau, penalty=\"L1\")\n",
    "    bic_scad = sqr.bic(tau=tau, penalty=\"SCAD\")\n",
    "    bic_mcp  = sqr.bic(tau=tau, penalty=\"MCP\")\n",
    "\n",
    "    est = pd.DataFrame(np.c_[(bic_l1['bic_beta'], \n",
    "                              bic_scad['bic_beta'], \n",
    "                              bic_mcp['bic_beta'])])\n",
    "    # squared L2-error (coefficients)\n",
    "    bic_out[:,0,m] = (est.iloc[1:] - beta[:,None]).pow(2).sum(axis=0)\n",
    "    # selected model size\n",
    "    bic_out[:,1,m] = est.iloc[1:].ne(0).sum(axis=0)\n",
    "    # true positives\n",
    "    bic_out[:,2,m] = (est.iloc[1:].ne(0) * (beta!=0)[:,None]).sum(axis=0)\n",
    "    # false positives\n",
    "    bic_out[:,3,m] = bic_out[:,1,m] - bic_out[:,2,m]\n",
    "    # lambda_min (the value of lambda that gives minimum BIC)\n",
    "    bic_out[:,4,m] = np.array([bic_l1['bic_lambda'], \n",
    "                               bic_scad['bic_lambda'], \n",
    "                               bic_mcp['bic_lambda']])"
   ]
  },
  {
   "cell_type": "code",
   "execution_count": 15,
   "id": "5536b5e8-e92f-4807-8eb0-e977efe9bca4",
   "metadata": {},
   "outputs": [
    {
     "data": {
      "text/html": [
       "<div>\n",
       "<style scoped>\n",
       "    .dataframe tbody tr th:only-of-type {\n",
       "        vertical-align: middle;\n",
       "    }\n",
       "\n",
       "    .dataframe tbody tr th {\n",
       "        vertical-align: top;\n",
       "    }\n",
       "\n",
       "    .dataframe thead th {\n",
       "        text-align: right;\n",
       "    }\n",
       "</style>\n",
       "<table border=\"1\" class=\"dataframe\">\n",
       "  <thead>\n",
       "    <tr style=\"text-align: right;\">\n",
       "      <th></th>\n",
       "      <th>coef_mse</th>\n",
       "      <th>(std)</th>\n",
       "      <th>model_size</th>\n",
       "      <th>true_pos</th>\n",
       "      <th>false_pos</th>\n",
       "      <th>bic_lambda</th>\n",
       "    </tr>\n",
       "  </thead>\n",
       "  <tbody>\n",
       "    <tr>\n",
       "      <th>l1-bic</th>\n",
       "      <td>0.884836</td>\n",
       "      <td>0.458874</td>\n",
       "      <td>9.72</td>\n",
       "      <td>8.0</td>\n",
       "      <td>1.72</td>\n",
       "      <td>0.078401</td>\n",
       "    </tr>\n",
       "    <tr>\n",
       "      <th>scad-bic</th>\n",
       "      <td>0.061004</td>\n",
       "      <td>0.037301</td>\n",
       "      <td>8.00</td>\n",
       "      <td>8.0</td>\n",
       "      <td>0.00</td>\n",
       "      <td>0.109611</td>\n",
       "    </tr>\n",
       "    <tr>\n",
       "      <th>mcp-bic</th>\n",
       "      <td>0.060917</td>\n",
       "      <td>0.037315</td>\n",
       "      <td>8.00</td>\n",
       "      <td>8.0</td>\n",
       "      <td>0.00</td>\n",
       "      <td>0.108641</td>\n",
       "    </tr>\n",
       "  </tbody>\n",
       "</table>\n",
       "</div>"
      ],
      "text/plain": [
       "          coef_mse     (std)  model_size  true_pos  false_pos  bic_lambda\n",
       "l1-bic    0.884836  0.458874        9.72       8.0       1.72    0.078401\n",
       "scad-bic  0.061004  0.037301        8.00       8.0       0.00    0.109611\n",
       "mcp-bic   0.060917  0.037315        8.00       8.0       0.00    0.108641"
      ]
     },
     "execution_count": 15,
     "metadata": {},
     "output_type": "execute_result"
    }
   ],
   "source": [
    "pd.DataFrame({\"coef_mse\": np.mean(bic_out[:,0,:], axis=1), \\\n",
    "              \"(std)\": np.std(bic_out[:,0,:], axis=1), \\\n",
    "              \"model_size\": np.mean(bic_out[:,1,:], axis=1), \\\n",
    "              \"true_pos\": np.mean(bic_out[:,2,:], axis=1), \\\n",
    "              \"false_pos\": np.mean(bic_out[:,3,:], axis=1), \\\n",
    "              \"bic_lambda\": np.mean(bic_out[:,4,:], axis=1)}, \\\n",
    "             index=[\"l1-bic\", \"scad-bic\",\"mcp-bic\"])"
   ]
  },
  {
   "cell_type": "code",
   "execution_count": null,
   "id": "61e77eea-ab08-41d4-9894-35d5907e3e06",
   "metadata": {},
   "outputs": [],
   "source": []
  },
  {
   "cell_type": "code",
   "execution_count": null,
   "id": "0c86ca9a-fdb0-4d1b-8774-1b8d2b57c339",
   "metadata": {},
   "outputs": [],
   "source": []
  }
 ],
 "metadata": {
  "kernelspec": {
   "display_name": "Python 3 (ipykernel)",
   "language": "python",
   "name": "python3"
  },
  "language_info": {
   "codemirror_mode": {
    "name": "ipython",
    "version": 3
   },
   "file_extension": ".py",
   "mimetype": "text/x-python",
   "name": "python",
   "nbconvert_exporter": "python",
   "pygments_lexer": "ipython3",
   "version": "3.11.4"
  }
 },
 "nbformat": 4,
 "nbformat_minor": 5
}
