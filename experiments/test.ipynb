{
 "cells": [
  {
   "cell_type": "code",
   "execution_count": 1,
   "id": "88d26466-6872-4d56-af03-79d12cdb8f21",
   "metadata": {},
   "outputs": [],
   "source": [
    "import pathlib\n",
    "import numpy as np\n",
    "import os"
   ]
  },
  {
   "cell_type": "code",
   "execution_count": 2,
   "id": "f50798e1-8ac9-4ac4-a8fc-f33bd57e3f42",
   "metadata": {},
   "outputs": [
    {
     "data": {
      "text/plain": [
       "PosixPath('/Users/stevewenxin/Dropbox/git/Conquer/experiments')"
      ]
     },
     "execution_count": 2,
     "metadata": {},
     "output_type": "execute_result"
    }
   ],
   "source": [
    "pathlib.Path().resolve()"
   ]
  },
  {
   "cell_type": "code",
   "execution_count": 3,
   "id": "020c4410-6057-4b2a-8e7b-5496510e939e",
   "metadata": {},
   "outputs": [
    {
     "data": {
      "text/plain": [
       "'/Users/stevewenxin/Dropbox/git/Conquer/experiments'"
      ]
     },
     "execution_count": 3,
     "metadata": {},
     "output_type": "execute_result"
    }
   ],
   "source": [
    "os.getcwd()"
   ]
  },
  {
   "cell_type": "code",
   "execution_count": 1,
   "id": "39ea9701-e4f3-4380-a926-7dc1663747d1",
   "metadata": {},
   "outputs": [],
   "source": [
    "from jupyter_server.auth import passwd"
   ]
  },
  {
   "cell_type": "code",
   "execution_count": 2,
   "id": "e670e9bc-aa09-4199-875d-028c82b28df1",
   "metadata": {},
   "outputs": [
    {
     "name": "stdin",
     "output_type": "stream",
     "text": [
      "Enter password:  ······\n",
      "Verify password:  ············\n"
     ]
    },
    {
     "name": "stdout",
     "output_type": "stream",
     "text": [
      "Passwords do not match.\n"
     ]
    },
    {
     "name": "stdin",
     "output_type": "stream",
     "text": [
      "Enter password:  ······\n",
      "Verify password:  ······\n"
     ]
    },
    {
     "data": {
      "text/plain": [
       "'sha1:ad3a30ed127a:202166e14479059d95fdb446debf225165bc7345'"
      ]
     },
     "execution_count": 2,
     "metadata": {},
     "output_type": "execute_result"
    }
   ],
   "source": [
    "passwd()"
   ]
  },
  {
   "cell_type": "code",
   "execution_count": 1,
   "id": "e2f175ac-8e20-45c8-b15b-72cadddb6e57",
   "metadata": {},
   "outputs": [],
   "source": [
    "import platform, subprocess\n",
    "\n",
    "def get_processor_info():\n",
    "    if platform.system() == \"Windows\":\n",
    "        return platform.processor()\n",
    "    elif platform.system() == \"Darwin\":\n",
    "        return subprocess.check_output(['/usr/sbin/sysctl', \"-n\", \"machdep.cpu.brand_string\"]).strip()\n",
    "    elif platform.system() == \"Linux\":\n",
    "        command = \"cat /proc/cpuinfo\"\n",
    "        return subprocess.check_output(command, shell=True).strip()\n",
    "    return \"\""
   ]
  },
  {
   "cell_type": "code",
   "execution_count": 2,
   "id": "2aededc3-c9cf-412a-86d9-9a1c990a9942",
   "metadata": {},
   "outputs": [
    {
     "data": {
      "text/plain": [
       "b'Intel(R) Core(TM) i5-9600K CPU @ 3.70GHz'"
      ]
     },
     "execution_count": 2,
     "metadata": {},
     "output_type": "execute_result"
    }
   ],
   "source": [
    "get_processor_info()"
   ]
  },
  {
   "cell_type": "code",
   "execution_count": 3,
   "id": "13170dbe-b8a6-4067-8cd6-93e6711a5e97",
   "metadata": {},
   "outputs": [],
   "source": [
    "import psutil\n",
    "import platform\n",
    "from datetime import datetime"
   ]
  },
  {
   "cell_type": "code",
   "execution_count": 4,
   "id": "5f308558-54a1-4072-80c4-05876e29e652",
   "metadata": {},
   "outputs": [],
   "source": [
    "def get_size(bytes, suffix=\"B\"):\n",
    "    \"\"\"\n",
    "    Scale bytes to its proper format\n",
    "    e.g:\n",
    "        1253656 => '1.20MB'\n",
    "        1253656678 => '1.17GB'\n",
    "    \"\"\"\n",
    "    factor = 1024\n",
    "    for unit in [\"\", \"K\", \"M\", \"G\", \"T\", \"P\"]:\n",
    "        if bytes < factor:\n",
    "            return f\"{bytes:.2f}{unit}{suffix}\"\n",
    "        bytes /= factor"
   ]
  },
  {
   "cell_type": "code",
   "execution_count": 5,
   "id": "ef5578f8-df95-42ee-a97a-afb464ee72ba",
   "metadata": {},
   "outputs": [
    {
     "name": "stdout",
     "output_type": "stream",
     "text": [
      "======================================== System Information ========================================\n",
      "System: Darwin\n",
      "Node Name: math196.ucsd.edu\n",
      "Release: 20.5.0\n",
      "Version: Darwin Kernel Version 20.5.0: Sat May  8 05:10:33 PDT 2021; root:xnu-7195.121.3~9/RELEASE_X86_64\n",
      "Machine: x86_64\n",
      "Processor: i386\n"
     ]
    }
   ],
   "source": [
    "print(\"=\"*40, \"System Information\", \"=\"*40)\n",
    "uname = platform.uname()\n",
    "print(f\"System: {uname.system}\")\n",
    "print(f\"Node Name: {uname.node}\")\n",
    "print(f\"Release: {uname.release}\")\n",
    "print(f\"Version: {uname.version}\")\n",
    "print(f\"Machine: {uname.machine}\")\n",
    "print(f\"Processor: {uname.processor}\")"
   ]
  },
  {
   "cell_type": "code",
   "execution_count": 8,
   "id": "216d6f0c-e24e-4540-95c8-993bdb2765da",
   "metadata": {},
   "outputs": [
    {
     "name": "stdout",
     "output_type": "stream",
     "text": [
      "======================================== Memory Information ========================================\n",
      "Total: 32.00GB\n",
      "Available: 18.20GB\n",
      "Used: 13.79GB\n",
      "Percentage: 43.1%\n",
      "==================== SWAP ====================\n",
      "Total: 0.00B\n",
      "Free: 0.00B\n",
      "Used: 0.00B\n",
      "Percentage: 0.0%\n"
     ]
    }
   ],
   "source": [
    "# Memory Information\n",
    "print(\"=\"*40, \"Memory Information\", \"=\"*40)\n",
    "# get the memory details\n",
    "svmem = psutil.virtual_memory()\n",
    "print(f\"Total: {get_size(svmem.total)}\")\n",
    "print(f\"Available: {get_size(svmem.available)}\")\n",
    "print(f\"Used: {get_size(svmem.used)}\")\n",
    "print(f\"Percentage: {svmem.percent}%\")\n",
    "print(\"=\"*20, \"SWAP\", \"=\"*20)\n",
    "# get the swap memory details (if exists)\n",
    "swap = psutil.swap_memory()\n",
    "print(f\"Total: {get_size(swap.total)}\")\n",
    "print(f\"Free: {get_size(swap.free)}\")\n",
    "print(f\"Used: {get_size(swap.used)}\")\n",
    "print(f\"Percentage: {swap.percent}%\")"
   ]
  },
  {
   "cell_type": "code",
   "execution_count": 9,
   "id": "e88efde2-0ce5-4f5d-abdb-e076e0fb6dc6",
   "metadata": {},
   "outputs": [
    {
     "name": "stdout",
     "output_type": "stream",
     "text": [
      "======================================== CPU Info ========================================\n",
      "Physical cores: 6\n",
      "Total cores: 6\n",
      "Max Frequency: 3700.00Mhz\n",
      "Min Frequency: 3700.00Mhz\n",
      "Current Frequency: 3700.00Mhz\n",
      "CPU Usage Per Core:\n",
      "Core 0: 13.0%\n",
      "Core 1: 9.9%\n",
      "Core 2: 7.0%\n",
      "Core 3: 6.0%\n",
      "Core 4: 6.0%\n",
      "Core 5: 5.0%\n",
      "Total CPU Usage: 8.8%\n"
     ]
    }
   ],
   "source": [
    "# let's print CPU information\n",
    "print(\"=\"*40, \"CPU Info\", \"=\"*40)\n",
    "# number of cores\n",
    "print(\"Physical cores:\", psutil.cpu_count(logical=False))\n",
    "print(\"Total cores:\", psutil.cpu_count(logical=True))\n",
    "# CPU frequencies\n",
    "cpufreq = psutil.cpu_freq()\n",
    "print(f\"Max Frequency: {cpufreq.max:.2f}Mhz\")\n",
    "print(f\"Min Frequency: {cpufreq.min:.2f}Mhz\")\n",
    "print(f\"Current Frequency: {cpufreq.current:.2f}Mhz\")\n",
    "# CPU usage\n",
    "print(\"CPU Usage Per Core:\")\n",
    "for i, percentage in enumerate(psutil.cpu_percent(percpu=True, interval=1)):\n",
    "    print(f\"Core {i}: {percentage}%\")\n",
    "print(f\"Total CPU Usage: {psutil.cpu_percent()}%\")"
   ]
  },
  {
   "cell_type": "code",
   "execution_count": null,
   "id": "32494c78-3dd8-49a8-8dc4-49e00745e0f2",
   "metadata": {},
   "outputs": [],
   "source": []
  },
  {
   "cell_type": "code",
   "execution_count": 10,
   "id": "6d2e1b18-ef4d-42fb-8327-f9f98bc44609",
   "metadata": {},
   "outputs": [],
   "source": [
    "from conquer.qr import conquer"
   ]
  },
  {
   "cell_type": "code",
   "execution_count": 11,
   "id": "e3893d4d-c5b3-415b-b7f8-829a035d1969",
   "metadata": {},
   "outputs": [],
   "source": [
    "from conquer.hdqr import reg_conquer"
   ]
  },
  {
   "cell_type": "code",
   "execution_count": 1,
   "id": "38bafff7-b888-4668-a6c6-d6c49c736abc",
   "metadata": {},
   "outputs": [],
   "source": [
    "import sys\n",
    "sys.path.append('/Users/stevewenxin/Dropbox/git/Conquer/conquer')"
   ]
  },
  {
   "cell_type": "code",
   "execution_count": 2,
   "id": "d3a2c03f-adc8-4c1e-8e1d-7bd31d04078b",
   "metadata": {},
   "outputs": [],
   "source": [
    "from hdqr import reg_conquer"
   ]
  },
  {
   "cell_type": "code",
   "execution_count": 19,
   "id": "289f78f7-cd15-42be-afe5-5aabb9e6cdd6",
   "metadata": {},
   "outputs": [],
   "source": [
    "from conquer import qr, hdqr"
   ]
  },
  {
   "cell_type": "code",
   "execution_count": 7,
   "id": "d9d7307e-e0d5-468a-af87-6d356c10baa6",
   "metadata": {},
   "outputs": [],
   "source": [
    "import numpy as np\n",
    "import numpy.random as rgt\n",
    "from scipy.stats import norm, t\n",
    "import matplotlib.pyplot as plt\n",
    "import time\n",
    "import pandas as pd"
   ]
  },
  {
   "cell_type": "code",
   "execution_count": 8,
   "id": "812774f3-d4a6-4ea2-b708-8b9611587b99",
   "metadata": {},
   "outputs": [],
   "source": [
    "n, p = 8000, 400\n",
    "mask = 2*rgt.binomial(1, 1/2, p) - 1\n",
    "itcp, beta = 4, 1*np.ones(p)*mask\n",
    "tau, t_df = 0.75, 2\n",
    "X = rgt.normal(0, 1.5, size=(n,p))\n",
    "Y = itcp + X.dot(beta) + rgt.standard_t(t_df, n) - t.ppf(tau, t_df)"
   ]
  },
  {
   "cell_type": "code",
   "execution_count": 32,
   "id": "e76af84b-e540-4634-a56f-bf2496106929",
   "metadata": {},
   "outputs": [],
   "source": [
    "sqr = qr.conquer(X,Y)\n",
    "sqr_beta, sqr_fit = sqr.fit(tau=tau)"
   ]
  },
  {
   "cell_type": "code",
   "execution_count": 28,
   "id": "9900c6c7-5e71-46b1-b61c-5e819626163f",
   "metadata": {},
   "outputs": [],
   "source": [
    "reg_sqr = hdqr.reg_conquer(X, Y)\n",
    "l1_beta, l1_fit = reg_sqr.l1(tau=tau)"
   ]
  },
  {
   "cell_type": "code",
   "execution_count": 35,
   "id": "a9ab329a-b359-4904-9655-ac464808ad38",
   "metadata": {},
   "outputs": [
    {
     "data": {
      "text/plain": [
       "array([ 4.05390832,  1.02166219, -0.99049511, -0.98434466, -0.99219683,\n",
       "        1.00490047, -1.02423525, -0.98614126, -0.99483429, -0.99567744,\n",
       "       -0.99786948,  0.99184903,  0.992081  ,  0.99500189, -0.98640188,\n",
       "        0.98508336, -1.01171518,  1.0139199 , -0.99724401, -1.00338891,\n",
       "        0.98662226,  1.02091221,  1.00814375, -0.98421909,  0.99370886,\n",
       "        1.00926714, -0.98788184,  0.99637825, -0.99042752,  1.01005266,\n",
       "        0.99084955, -0.99609694,  0.99608565,  0.99129462, -0.99572284,\n",
       "        0.99991867, -0.99687577,  1.01139057, -1.01459267, -0.98646226,\n",
       "        0.99780116, -1.02101061, -0.97305623,  0.9923889 ,  1.00628207,\n",
       "        0.99664679,  1.00335455,  1.01846403,  1.0083881 , -0.99281428,\n",
       "        1.00183715, -0.99445024, -1.03068084,  0.98744954, -0.98813142,\n",
       "       -1.00415433, -0.99085398, -1.01847511,  1.02019719, -1.02440229,\n",
       "        0.9903797 ,  0.98955962,  0.98312367,  0.99083353, -0.97036739,\n",
       "        0.99966096,  0.98279345,  0.98670251,  0.99506022, -0.98231528,\n",
       "        1.0086786 , -1.00003705,  1.01439868,  1.00285153,  0.99718426,\n",
       "       -1.00997712, -1.00209012, -0.99207127, -0.99260373, -0.98135266,\n",
       "       -0.9912863 ,  0.98837267,  0.99931821,  0.98404833,  1.00125691,\n",
       "        1.00343689,  0.9726665 ,  0.98264149,  0.97830885,  1.00525358,\n",
       "       -1.00978175,  0.98739359, -1.01718886, -0.99109286, -1.01030835,\n",
       "       -0.98273816, -0.97907062,  0.98908495,  0.99849962,  1.01222773,\n",
       "       -0.99262609,  0.99585992,  0.99545551, -1.0083348 ,  0.99389767,\n",
       "        1.00678444,  0.99017321,  1.00119046,  0.97600462,  0.98116046,\n",
       "        0.99170962,  0.99047839,  0.98932887, -0.99692229, -1.01963629,\n",
       "        0.99460103,  0.99928182, -0.99954896,  0.98301713,  1.00253671,\n",
       "        1.00293061, -1.00712638, -0.99496036, -0.99805776,  1.02077999,\n",
       "        1.00058782, -1.00580521,  0.99548556, -0.99737458,  0.98667915,\n",
       "        1.00659592,  0.98454381,  1.00658803,  1.01832859,  1.02542976,\n",
       "        1.0029052 , -0.99719735,  1.0183636 , -1.00042645,  0.99058783,\n",
       "        0.98682069, -1.00353043, -1.01616479, -1.00832948, -0.97831429,\n",
       "        1.00518907,  1.00228192, -0.98379002, -0.99411501, -0.99531035,\n",
       "       -0.99994287, -0.98383415,  1.01301058,  0.99544572,  0.99847985,\n",
       "        0.99537205,  0.9829151 , -0.99419118, -1.01788566, -0.99215204,\n",
       "       -0.97643883, -1.00676677,  1.02104342,  1.01621983,  0.99198446,\n",
       "        0.99936661,  0.99253419, -1.01785828, -1.01495873, -1.02621798,\n",
       "       -0.99948037,  0.99789474,  0.98390198, -1.01865798, -1.01575359,\n",
       "       -1.00774759,  0.97918543,  0.98441686, -1.006349  , -1.01727311,\n",
       "        0.97989042,  0.99843437, -0.99591368,  0.99682416,  1.01070628,\n",
       "       -1.00229777,  0.99828562,  1.00950946,  1.01462549,  1.00340915,\n",
       "       -1.01206479,  0.98569429,  1.01589071, -1.00040234,  0.99950351,\n",
       "        1.02024319, -1.00869152, -0.99819221,  0.96352929, -1.02476407,\n",
       "        0.9916499 , -0.99929825,  1.00857421, -0.98907713, -1.0195094 ,\n",
       "        0.96695105, -1.00037226,  1.02276043, -0.97638127,  1.01199981,\n",
       "       -0.97204117, -1.0145136 , -1.00867033,  0.98656509,  0.98730472,\n",
       "        0.98507721,  0.97524781,  1.0103311 ,  1.02526294, -1.00961129,\n",
       "        0.99757174,  1.01598366,  1.01432362, -1.02982431,  1.01343879,\n",
       "        1.00383534,  0.99989915,  1.01421869,  1.01649284, -0.99917026,\n",
       "       -1.01203248, -1.00415501,  1.01626381, -0.99969659, -0.99574149,\n",
       "       -0.98282431, -0.98454109,  0.98920632, -1.01411651, -0.99445732,\n",
       "       -0.98101999, -0.98395932, -0.99187758,  1.00022966, -0.98965014,\n",
       "       -0.99598542, -0.98076585, -1.02730849,  0.9956071 ,  0.97639136,\n",
       "       -1.01947605,  1.01149921,  0.98496772,  1.01247485, -1.01817411,\n",
       "        0.98756713, -0.98820741, -0.99181028, -1.0009098 ,  1.00746012,\n",
       "        1.02034847,  1.00647654, -0.99518058,  1.00037473,  1.00337603,\n",
       "       -0.99041337, -0.99338032, -0.98789217,  0.98692374, -0.988466  ,\n",
       "       -1.00363723,  0.99280505,  0.96937936, -1.02088626, -1.00091684,\n",
       "        0.98742645,  0.9894561 ,  1.02705951, -1.02947352,  0.99496222,\n",
       "        0.99488485,  1.00605668,  1.02139338, -0.99745818, -1.00062334,\n",
       "       -0.99863704, -0.99565898, -0.99479168,  1.00858691,  0.99933381,\n",
       "       -0.98550935,  1.02235789, -0.99048507,  0.98590324, -1.0036054 ,\n",
       "        0.99986768,  1.00788937, -1.00720588, -0.98385376,  1.01166063,\n",
       "       -1.0097114 ,  1.0072066 ,  0.99627199,  1.01323486, -0.98596983,\n",
       "       -0.99224092,  0.98380508, -0.99041909,  1.01269944,  0.9627798 ,\n",
       "        0.98619503, -1.00929861,  0.98932724, -0.99321506, -0.99177468,\n",
       "        0.99084474,  1.01499703, -0.98755234, -0.9866363 , -1.00660264,\n",
       "       -1.00120366,  0.97470109,  0.9945282 , -1.00412457, -0.98275045,\n",
       "        0.98503273,  1.00313686,  1.00691681,  1.00426104,  1.00319139,\n",
       "       -0.97228664,  1.00407438, -0.99431784,  0.98979255, -0.99021548,\n",
       "       -0.99617877,  1.01150256, -0.9988849 ,  0.99748444,  0.97857419,\n",
       "        0.99756555, -1.02334303, -1.00643009, -0.98818012,  0.99887082,\n",
       "        0.99775236, -1.02212056,  1.00542317,  0.98041543,  0.98534993,\n",
       "       -0.9992219 , -1.00525494,  1.01111826,  0.97812039, -0.98575495,\n",
       "       -1.00987239, -0.99623417, -1.00722019,  0.99017902, -1.01833784,\n",
       "        0.99970435, -0.99166294,  1.01191001, -0.99573112,  1.02999029,\n",
       "        1.00949421,  0.99351726, -1.01377392,  0.98900191,  0.98617416,\n",
       "        0.99369771, -1.01073172, -0.98818437,  1.02012471, -0.98611741,\n",
       "        1.01700337, -1.00034092,  0.99711139, -0.9915037 ,  1.00437717,\n",
       "       -0.99853   , -1.02423714, -0.98159863, -1.01965165, -0.96516214,\n",
       "       -0.97372559, -1.01499305,  1.01853873, -0.99185324, -1.01770062,\n",
       "        1.00606332, -0.98348186,  1.01858078, -0.99721893,  1.00641206,\n",
       "        0.99909703, -0.98510144, -1.00499417, -0.99094836,  1.00731936,\n",
       "        0.97816863])"
      ]
     },
     "execution_count": 35,
     "metadata": {},
     "output_type": "execute_result"
    }
   ],
   "source": [
    "sqr_beta"
   ]
  },
  {
   "cell_type": "code",
   "execution_count": null,
   "id": "61714274-2bcf-4a7a-9dd7-edadb988b03e",
   "metadata": {},
   "outputs": [],
   "source": []
  }
 ],
 "metadata": {
  "kernelspec": {
   "display_name": "Python 3",
   "language": "python",
   "name": "python3"
  },
  "language_info": {
   "codemirror_mode": {
    "name": "ipython",
    "version": 3
   },
   "file_extension": ".py",
   "mimetype": "text/x-python",
   "name": "python",
   "nbconvert_exporter": "python",
   "pygments_lexer": "ipython3",
   "version": "3.8.8"
  }
 },
 "nbformat": 4,
 "nbformat_minor": 5
}
